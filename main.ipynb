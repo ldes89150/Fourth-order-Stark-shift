{
 "cells": [
  {
   "cell_type": "markdown",
   "metadata": {},
   "source": [
    "$$\\newcommand{\\ket}[1]{\\left|{#1}\\right\\rangle}\n",
    "\\newcommand{\\bra}[1]{\\left\\langle{#1}\\right|}\n",
    "\\newcommand{\\braket}[2]{\\left\\langle{#1}\\middle|{#2}\\right\\rangle}\n",
    "\\newcommand{\\ketbra}[2]{\\left |{#1}\\middle\\rangle\\middle\\langle{#2}\\right|}$$"
   ]
  },
  {
   "cell_type": "markdown",
   "metadata": {},
   "source": [
    "# Final Project for Prof. Senko's Reading Course (2018 Spring): Engineering large Stark shifts for control of individual clock state qubits\n",
    "Chung-You (Gilbert) Shih\n",
    "\n",
    "## Abstract\n",
    "In this report, we will go through the detailed derivation of differential fourth order Stark shift for pulse laser, and evaluate it numerically with real pulser laser parameters. This report mainly focus on the Yb 171 ions which are the ions used in the paper, but we also provide some calculation for Ba 137."
   ]
  },
  {
   "cell_type": "markdown",
   "metadata": {},
   "source": [
    "## Fourth Order Stark Shift\n",
    "We begin with the Hamiltonian of two ground state hyperfine manifolds $\\ket{0,0}$ and $\\ket{1,0}$ and an excited state $\\ket{e}$ with two laser beams couple $\\ket{0,0}$ to $\\ket{e}$ and $\\ket{1,0}$ to $\\ket{e}$ with frequency $\\omega_0$ and $\\omega_1$ respectively. (**Please refer to Fig 1 in the paper.**)\n",
    "$$\n",
    "H = \\omega_e \\ketbra{e}{e} + \\omega_{HF} \\ketbra{1,0}{1,0}+\\\\\n",
    "\\frac{\\Gamma_0}{2}\\ketbra{0,0}{e}\\left(e^{i\\omega_0 t }+e^{-i\\omega_0 t } \\right)+\n",
    "\\frac{\\Gamma_1}{2}\\ketbra{1,0}{e}\\left(e^{i\\omega_1 t }+e^{-i\\omega_1 t } \\right)\n",
    "+h.c.\n",
    "$$\n",
    "where $\\Gamma_0$ and $\\Gamma_1$ are the sub-level Rabi frequency.\n",
    "\n",
    "To get rid of the time dependency, we can transfrom the Hamiltonian into the EM field rotating frame. First, we rewrite the Hamiltonian in the form \n",
    "$$\n",
    "H = H_0 + H_1\n",
    "$$\n",
    "where\n",
    "$$\n",
    "H_0 = \\omega_0 \\ketbra{e}{e} + (\\omega_0-\\omega_1) \\ketbra{1,0}{1,0}\n",
    "$$\n",
    "and \n",
    "$$\n",
    "H_1 = (\\omega_e - \\omega_0) \\ketbra{e}{e} + (\\omega_{HF} - (\\omega_0-\\omega_1)) \\ketbra{1,0}{1,0}+\\\\\n",
    "\\frac{\\Gamma_0}{2}\\ketbra{0,0}{e}\\left(e^{i\\omega_0 t }+e^{-i\\omega_0 t } \\right)+\n",
    "\\frac{\\Gamma_1}{2}\\ketbra{1,0}{e}\\left(e^{i\\omega_1 t }+e^{-i\\omega_1 t } \\right)\n",
    "+h.c.\n",
    "$$\n",
    "\n",
    "Under the rotating frame, the Hamiltonian would be :\n",
    "$$\n",
    "H_{rot} = e^{iH_0 t}H_1e^{-iH_0t}\\\\\n",
    "=  (\\omega_e - \\omega_0) \\ketbra{e}{e} + (\\omega_{HF} - (\\omega_0-\\omega_1)) \\ketbra{1,0}{1,0}+\\\\\n",
    "\\frac{\\Gamma_0}{2}\\ketbra{0,0}{e}\\left(1+e^{-i2\\omega_0 t } \\right)+\n",
    "\\frac{\\Gamma_1}{2}\\ketbra{1,0}{e}\\left(1+e^{-i2\\omega_1 t} \\right)+h.c.\n",
    "$$\n",
    "With rotating wave approximation (RWA), we can drop the fast rotating terms, and we will get\n",
    "$$\n",
    "H_{rot} = (\\omega_e - \\omega_0) \\ketbra{e}{e} + (\\omega_{HF} - (\\omega_0-\\omega_1)) \\ketbra{1,0}{1,0}+\\\\\n",
    "\\frac{\\Gamma_0}{2}\\ketbra{0,0}{e}+\n",
    "\\frac{\\Gamma_1}{2}\\ketbra{1,0}{e}+h.c. \\\\\n",
    "= (\\delta -\\Delta) \\ketbra{e}{e} + \\delta \\ketbra{1,0}{1,0}+\\\\\n",
    "\\frac{\\Gamma_0}{2}\\ketbra{0,0}{e}+\n",
    "\\frac{\\Gamma_1}{2}\\ketbra{1,0}{e}+h.c.\n",
    "$$\n",
    "Notice that this is **different from the formula in the paper** ($\\ketbra{e}{e}$). This may indicate the paper has some minor flaws in the derivation. However, later we will show both of them lead to the same results of differential Stark shifts."
   ]
  },
  {
   "cell_type": "markdown",
   "metadata": {},
   "source": [
    "Split the Hamiltonian into two part:\n",
    "$$\n",
    "H =  H_0 + V\n",
    "$$\n",
    "where\n",
    "$$\n",
    "H_0' = (\\delta -\\Delta) \\ketbra{e}{e} + \\delta \\ketbra{1,0}{1,0}\n",
    "$$\n",
    "$$\n",
    "V = \\frac{\\Gamma_0}{2}\\ketbra{0,0}{e}+\n",
    "\\frac{\\Gamma_1}{2}\\ketbra{1,0}{e}+h.c.\n",
    "$$\n",
    "With $H_0'$ as unperturbed Hamiltonian and V as the perturbation. The forth order energy correction given by the perturbation theory would be:\n",
    "$$\n",
    "E_n^{(4)} = \\frac{V_{nk_4}V_{k_4k_3}V_{k_3k_2}V_{k_2n}}{E_{nk_2}E_{nk_3}E_{nk_4}}-\\frac{|V_{nk_4}|^2}{E_{nk_4}^2}\\frac{|V_{nk_2}|^2}{E_{nk_2}}\\\\-V_{nn}\\frac{V_{nk_4}V_{k_4k_3}V_{k_3n}}{E_{nk_3}^2E_{nk_4}}-V_{nn}\\frac{V_{nk_4}V_{k_4k_2}V_{k_2n}}{E_{nk_2}E_{nk_4}^2}+V_{nn}^2\\frac{|V_{nk_4}|^2}{E_{nk_4}^3}\n",
    "$$\n",
    "[3] Since the $V$ only contains off-diagonal term, all the $V_{nn}$ terms will all vanish to zero. Then, we can calculate the forth order Stark shift of the ground state hyperfine manifolds.\n",
    "\n",
    "The 4th order Stark shift of state $\\ket{0,0}$:\n",
    "\n",
    "$$\n",
    "E_{00}^{(4)} = \\frac{V_{00,10} V_{10,e} V_{e,10} V_{10,00}}{E_{00,10}E_{00,e}E_{00,10}} + \\frac{V_{00,e} V_{e,10} V_{10,e} V_{e,00}}{E_{00,e}E_{00,10}E_{00,e}}\\\\ - \\left(\n",
    "\\frac{|V_{00,10}|^2 |V_{00,10}|^2}{E_{00,10} (E_{00,10})^2} +\n",
    "\\frac{|V_{00,10}|^2 |V_{00,e}|^2}{E_{00,10} (E_{00,e})^2} +\n",
    "\\frac{|V_{00,e}|^2 |V_{00,10}|^2}{E_{00,e} (E_{00,10})^2} +\n",
    "\\frac{|V_{00,e}|^2 |V_{00,e}|^2}{E_{00,e} (E_{00,e})^2}\n",
    "\\right ) \\\\\n",
    "= \\frac{V_{00,e} V_{e,10} V_{10,e} V_{e,10}}{E_{00,e}E_{00,10}E_{00,e}} - \\frac{|V_{00,e}|^2 |V_{00,e}|^2}{E_{00,e} (E_{00,e})^2}\\\\\n",
    "= -\\frac{|\\frac{\\Gamma_0\\Gamma_1}{2(\\delta -\\Delta)}|^2}{4\\delta} - \\frac{|\\Gamma_0|^4}{16(\\Delta -\\delta)^3}\n",
    "$$\n",
    "With the assumption $\\Gamma_0 \\approx \\Gamma_1$ and $\\delta \\ll \\Delta$, the expression can be simplified as \n",
    "$$\n",
    "E_{00}^{(4)} = - \\frac{|\\Omega|^2 }{4\\delta}\n",
    "$$ \n",
    "where $\\Omega = \\frac{\\Gamma_0\\Gamma_1}{2\\Delta}$ is the two-photon Rabi frequency of resonant Raman transition ($\\delta = 0$).\n",
    "\n",
    "From this expression, an intuitive picutre of physics is: The $\\ket{0,0}$ and $\\ket{1,0}$ are coupled to virtual states detuned $\\delta$ to other ground state hyperfine manifolds through Raman transition.\n",
    "\n",
    "Similarily, we can derive the shift of the other ground state hyperfine manifolds $\\ket{1,0}$.\n",
    "$$\n",
    "E_{10}^{(4)} = \\frac{V_{10,00} V_{00,e} V_{e,00} V_{00,10}}{E_{10,00}E_{10,e}E_{10,00}} + \\frac{V_{10,e} V_{e,00} V_{00,e} V_{e,10}}{E_{10,e}E_{10,00}E_{10,e}}\\\\ - \\left(\n",
    "\\frac{|V_{10,00}|^2 |V_{10,00}|^2}{E_{10,00} (E_{10,00})^2} +\n",
    "\\frac{|V_{10,00}|^2 |V_{10,e}|^2}{E_{10,00} (E_{10,e})^2} +\n",
    "\\frac{|V_{10,e}|^2 |V_{10,00}|^2}{E_{10,e} (E_{10,00})^2} +\n",
    "\\frac{|V_{10,e}|^2 |V_{10,e}|^2}{E_{10,e} (E_{10,e})^2}\n",
    "\\right ) \\\\\n",
    "= \\frac{V_{10,e} V_{e,00} V_{00,e} V_{e,10}}{E_{10,e}E_{10,00}E_{10,e}} - \\frac{|V_{10,e}|^2 |V_{10,e}|^2}{E_{10,e} (E_{10,e})^2}\\\\\n",
    "= \\frac{|\\frac{\\Gamma_0\\Gamma_1}{2\\Delta}|^2}{4\\delta} - \\frac{|\\Gamma_1|^4}{16\\Delta^3}\\\\\n",
    "$$\n",
    "With the same approximation, it becomes\n",
    "$$\n",
    "E_{10}^{(4)} = \\frac{|\\Omega|^2 }{4\\delta}\n",
    "$$\n",
    "\n",
    "Now we counts in all the contribution from different ground state hyperfine manifolds $\\ket{1,-1}$ and $\\ket{1,1}$, we get\n",
    "$$\n",
    "E_{00}^{(4)} = \\sum_a  - \\frac{|\\Omega_{00,a}|^2 }{4\\delta_{00,a}}\n",
    "$$\n",
    "$$\n",
    "E_{10}^{(4)} = \\sum_a \\frac{|\\Omega_{10,a}|^2 }{4\\delta_{10,a}}\n",
    "$$"
   ]
  },
  {
   "cell_type": "markdown",
   "metadata": {},
   "source": [
    "## Deriving Two-Photon Rabi Frequency for Different Polarization and States\n",
    "To know how the polirazation change the the sublevel Rabi frequency $\\Gamma$, we'll need to calculate all the components of dipole matrix elements.\n",
    "With Wigner–Eckart theorem, we can separate the angular dependiencies of the dipole matrix element. The first term $\\left <F  \\middle |\\middle| \\vec{d} \\middle |\\middle| F\\right>$ is reduced dipole matrix element, and the second term $\\braket{F_e,m_e}{F_g,m_g;1,q}$ is the Clebsch-Gordan coefficant.\n",
    "$$\n",
    "\\left <F_e  \\middle | d_q \\middle | F_g\\right >\n",
    "= \\left <F_e  \\middle |\\middle| \\vec{d} \\middle |\\middle| F_g\\right>\n",
    "\\braket{F_e,m_e}{F_g,m_g;1,q}\n",
    "= \\left <F_e  \\middle |\\middle| \\vec{d} \\middle |\\middle| F_g\\right> CG^{F_{e},m_{e}}_{F_{g},m_{g},1,q}\n",
    "$$\n",
    "However, the quantum number $F$ raises from the coupling of the net orbital angular momentum $J$ and the nuclear spin $I$. The dipole operator $\\vec{d}$ refers to the position of the electron which couples to $J$ only. As a result, we can futher processed the reduced dipole matrix element.\n",
    "$$\n",
    "\\left <F_e  \\middle |\\middle| \\vec{d} \\middle |\\middle| F_g\\right> = \\left(-1\\right)^{F_{e} + I + J_{g} + 1} \\sqrt{\\left(2 F_{g} + 1\\right) \\left(2 J_{e} + 1\\right)}  \\left\\{\\begin{array}{ccc} J_{g} & J_{e} & 1 \\\\ F_{e} & F_{g} & I \\end{array}\\right\\} \\left <J_e \\middle |\\middle| \\vec{d} \\middle |\\middle| J_g\\right>\n",
    "$$\n",
    "where the curly bracket $\\{...\\}$ is the Wigner 6-j symbol. [2]\n",
    "For Yb-171, the nuclear spin quantum number is $\\frac{1}{2}$. With the defination of Rabi frequency, we know the sublevel Rabi frequency (propotional to the dipole matrix element) with polarization $q$ will be:\n",
    "$$\n",
    "\\Gamma^{(q)} = \\left(-1\\right)^{F_{e} + \\frac{1}{2} + J_{g} + 1} \\sqrt{\\left(2 F_{g} + 1\\right) \\left(2 J_{e} + 1\\right)} CG^{F_{e},m_{e}}_{F_{g},m_{g},1,q} \\left\\{\\begin{array}{ccc} J_{g} & J_{e} & 1 \\\\ F_{e} & F_{g} & \\frac{1}{2} \\end{array}\\right\\} g_0 \n",
    "\\\\ = B^{D_{J_e},F_e,m_e}_{F_g,m_g\";1,q} g_0\n",
    "$$\n",
    "where $g_0 = \\gamma^2 \\frac{I}{I_{sat}}$ is the resonant Rabi frequency and $B^{D_{J_e},F_e,m_e}_{F_g,m_g\";1,q}$ is the branching ratio.\n",
    "\n",
    "\n"
   ]
  },
  {
   "cell_type": "markdown",
   "metadata": {
    "ExecuteTime": {
     "end_time": "2018-08-13T21:10:18.723968Z",
     "start_time": "2018-08-13T21:10:18.718003Z"
    }
   },
   "source": [
    "For light with polarization $\\hat{\\epsilon} =\\epsilon_{-1} \\hat{\\sigma_{-}} + \\epsilon_{0} \\hat{\\pi} + \\epsilon_{1} \\hat{\\sigma_{+}}$, the two-photon Rabi frequency would be \n",
    "$$\n",
    "\\Omega_{F,mF;F', mF'} = \\Omega_{F,mF;F', mF'}^{D1} + \\Omega_{F,mF;F', mF'}^{D2}\\\\\n",
    "=\\sum_{i=-1,0,1} \\sum_{j =-1,0,1} \\sum_{\\ket{P_{1/2},F\",mF\"}}\n",
    "B^{P_{1/2},F\",mF\"}_{F,mF;1,i}B^{P_{1/2},F\",mF\"}_{F',mF';1,j}\\epsilon^0_i \\bar{\\epsilon^{1}_j} \\frac{g_0^2}{2\\Delta} + \\\\\n",
    "\\sum_{i=-1,0,1} \\sum_{j =-1,0,1} \\sum_{\\ket{P_{3/2},F\",mF\"}}\n",
    "B^{P_{3/2}, F\",mF\"}_{F,mF;1,i}B^{P_{3/2}, F\",mF\"}_{F',mF';1,j}\\epsilon^0_i \\bar{\\epsilon^{1}_j} \\frac{g_0^2}{2(\\Delta-\\omega_F)}\n",
    "$$"
   ]
  },
  {
   "cell_type": "markdown",
   "metadata": {},
   "source": [
    "With this formula, we're now able to calculate the two-photon Rabi frequencies between different ground state hyperfine manifolds. Here we only sum over all the excited states in $^2P_{1/2}$ and $^2P_{3/2}$ states (D1 and D2 line) because either the couplings of other excited states are too weak, or the detuning are too far away. To simplify the expression, we define $\\Omega_0= \\frac{g_{0}^{2} \\omega_{F}}{6 \\Delta \\left(\\Delta - \\omega_{F}\\right)}$."
   ]
  },
  {
   "cell_type": "code",
   "execution_count": 1,
   "metadata": {
    "ExecuteTime": {
     "end_time": "2018-08-17T22:30:06.002145Z",
     "start_time": "2018-08-17T22:30:05.597931Z"
    }
   },
   "outputs": [],
   "source": [
    "from sympy.physics.quantum.cg import CG, Wigner3j, Wigner6j\n",
    "from sympy import init_printing\n",
    "from sympy import *\n",
    "from IPython.display import *\n",
    "from scipy.constants import *\n",
    "from sympy import pi as pi_symbo\n",
    "import matplotlib.pyplot as plt\n",
    "import numpy as np\n",
    "%matplotlib inline\n",
    "plt.rcParams['figure.figsize'] = [20, 10]\n",
    "plt.rcParams.update({'font.size': 22})\n",
    "init_printing()"
   ]
  },
  {
   "cell_type": "code",
   "execution_count": 2,
   "metadata": {
    "ExecuteTime": {
     "end_time": "2018-08-17T22:30:06.010572Z",
     "start_time": "2018-08-17T22:30:06.003458Z"
    }
   },
   "outputs": [],
   "source": [
    "omega_F = Symbol(\"omega_F\", real=True)\n",
    "Omega_0 = Symbol(\"Omega_0\", real=True)\n",
    "omega_0 = Symbol(\"omega_0\", real=True)\n",
    "omega_1 = Symbol(\"omega_1\", real=True)\n",
    "nu_rep = Symbol(\"nu_rep\",real=True)\n",
    "tau = Symbol(\"tau\", real=True)\n",
    "k = Symbol(\"k\", real=True)\n",
    "l = Symbol(\"l\", real=True)\n",
    "Delta = Symbol(\"Delta\", real=True)\n",
    "g0 = Symbol(\"g0\")\n",
    "Omega_0_expression = g0**2*omega_F/6/Delta/(Delta-omega_F)\n",
    "def epsilon(n,i):\n",
    "    e =  Symbol(\"epsilon^{0}_{1}\".format(n,i))\n",
    "    if n == 1:\n",
    "        e = conjugate(e)\n",
    "    return e\n",
    "def sub_polirization(s, epsilon0, epsilon1):\n",
    "    p = (-1,0,1)\n",
    "    for i in range(3):\n",
    "        e =  Symbol(\"epsilon^{0}_{1}\".format(0,p[i]))\n",
    "        s = s.subs(e, epsilon0[i])\n",
    "    for i in range(3):\n",
    "        e =  Symbol(\"epsilon^{0}_{1}\".format(1,p[i]))\n",
    "        s = s.subs(e, epsilon1[i])\n",
    "    return s\n",
    "omega_HF = Symbol(\"omega_HF\", real=True)\n",
    "omega_Zee = Symbol(\"omega_Zee\", real=True)"
   ]
  },
  {
   "cell_type": "code",
   "execution_count": 3,
   "metadata": {
    "ExecuteTime": {
     "end_time": "2018-08-17T22:30:06.165155Z",
     "start_time": "2018-08-17T22:30:06.011781Z"
    }
   },
   "outputs": [],
   "source": [
    "def hyperfinestates(F,omega=None,omega_zee=None):\n",
    "    states = []\n",
    "    mF = -F\n",
    "    while mF <= F:\n",
    "        if omega is None:\n",
    "            energy = None\n",
    "        else:\n",
    "            energy = omega+mF*omega_zee\n",
    "        states.append((F,mF,energy))\n",
    "        mF += 1\n",
    "    return states"
   ]
  },
  {
   "cell_type": "code",
   "execution_count": 4,
   "metadata": {
    "ExecuteTime": {
     "end_time": "2018-08-17T22:30:06.262216Z",
     "start_time": "2018-08-17T22:30:06.170604Z"
    }
   },
   "outputs": [],
   "source": [
    "def D1_branching_ratio(Fg,mg,Fe,me,q):\n",
    "    I = I_ion\n",
    "    Jg= Rational(1,2)\n",
    "    Je = Rational(1,2)\n",
    "    return (-1)**(Fe+Jg+1+I)*sqrt((2*Fg+1)*(2*Je+1))*CG(Fg,mg,1,q,Fe,me).doit()* \\\n",
    "            Wigner6j(Jg,Je,1,Fe,Fg,I).doit()\n",
    "def D2_branching_ratio(Fg,mg,Fe,me,q):\n",
    "    I = I_ion\n",
    "    Jg= Rational(1,2)\n",
    "    Je = Rational(3,2)\n",
    "    return (-1)**(Fe+Jg+1+I)*sqrt((2*Fg+1)*(2*Je+1))*CG(Fg,mg,1,q,Fe,me).doit()* \\\n",
    "            Wigner6j(Jg,Je,1,Fe,Fg,I).doit()\n",
    "def two_photon_Rabi(state_0, state_1):\n",
    "    sD1 = 0\n",
    "    sD2 = 0\n",
    "    for excited_state in D1_excited:\n",
    "        for i in (-1,0,1):\n",
    "            for j in (-1,0,1):\n",
    "                s_sub = D1_branching_ratio(state_0[0],state_0[1],excited_state[0],excited_state[1], i) * \\\n",
    "                    D1_branching_ratio(state_1[0],state_1[1],excited_state[0],excited_state[1], j) * \\\n",
    "                    epsilon(0,i) * epsilon(1,j) * g0**2/Delta/2   \n",
    "                sD1+=s_sub\n",
    "    for excited_state in D2_excited:\n",
    "        for i in (-1,0,1):\n",
    "            for j in (-1,0,1):\n",
    "                s_sub = D2_branching_ratio(state_0[0],state_0[1],excited_state[0],excited_state[1], i) * \\\n",
    "                    D2_branching_ratio(state_1[0],state_1[1],excited_state[0],excited_state[1], j) * \\\n",
    "                    epsilon(0,i) * epsilon(1,j) * g0**2/(Delta-omega_F)/2  \n",
    "                sD2+=s_sub        \n",
    "    s =simplify(sD1)+simplify(sD2)\n",
    "    return s"
   ]
  },
  {
   "cell_type": "code",
   "execution_count": 5,
   "metadata": {
    "ExecuteTime": {
     "end_time": "2018-08-17T22:30:07.514493Z",
     "start_time": "2018-08-17T22:30:06.267277Z"
    }
   },
   "outputs": [
    {
     "data": {
      "text/latex": [
       "$\\Omega_{00,1-1}=- \\frac{g_{0}^{2} \\left(\\epsilon^{0}_{-1} \\overline{\\epsilon^{1}_{0}} + \\epsilon^{0}_{0} \\overline{\\epsilon^{1}_{1}}\\right)}{6 \\Delta - 6 \\omega_{F}} + \\frac{g_{0}^{2}}{6 \\Delta} \\left(\\epsilon^{0}_{-1} \\overline{\\epsilon^{1}_{0}} + \\epsilon^{0}_{0} \\overline{\\epsilon^{1}_{1}}\\right)=- \\Omega_{0} \\left(\\epsilon^{0}_{-1} \\overline{\\epsilon^{1}_{0}} + \\epsilon^{0}_{0} \\overline{\\epsilon^{1}_{1}}\\right)$"
      ],
      "text/plain": [
       "<IPython.core.display.Latex object>"
      ]
     },
     "metadata": {},
     "output_type": "display_data"
    },
    {
     "data": {
      "text/latex": [
       "$\\Omega_{00,10}=\\frac{g_{0}^{2} \\left(\\epsilon^{0}_{-1} \\overline{\\epsilon^{1}_{-1}} - \\epsilon^{0}_{1} \\overline{\\epsilon^{1}_{1}}\\right)}{6 \\Delta - 6 \\omega_{F}} + \\frac{g_{0}^{2}}{6 \\Delta} \\left(- \\epsilon^{0}_{-1} \\overline{\\epsilon^{1}_{-1}} + \\epsilon^{0}_{1} \\overline{\\epsilon^{1}_{1}}\\right)=\\Omega_{0} \\left(\\epsilon^{0}_{-1} \\overline{\\epsilon^{1}_{-1}} - \\epsilon^{0}_{1} \\overline{\\epsilon^{1}_{1}}\\right)$"
      ],
      "text/plain": [
       "<IPython.core.display.Latex object>"
      ]
     },
     "metadata": {},
     "output_type": "display_data"
    },
    {
     "data": {
      "text/latex": [
       "$\\Omega_{00,11}=\\frac{g_{0}^{2} \\left(\\epsilon^{0}_{0} \\overline{\\epsilon^{1}_{-1}} + \\epsilon^{0}_{1} \\overline{\\epsilon^{1}_{0}}\\right)}{6 \\Delta - 6 \\omega_{F}} - \\frac{g_{0}^{2}}{6 \\Delta} \\left(\\epsilon^{0}_{0} \\overline{\\epsilon^{1}_{-1}} + \\epsilon^{0}_{1} \\overline{\\epsilon^{1}_{0}}\\right)=\\Omega_{0} \\left(\\epsilon^{0}_{0} \\overline{\\epsilon^{1}_{-1}} + \\epsilon^{0}_{1} \\overline{\\epsilon^{1}_{0}}\\right)$"
      ],
      "text/plain": [
       "<IPython.core.display.Latex object>"
      ]
     },
     "metadata": {},
     "output_type": "display_data"
    },
    {
     "data": {
      "text/latex": [
       "$\\Omega_{1-1,10}=\\frac{g_{0}^{2} \\left(\\epsilon^{0}_{0} \\overline{\\epsilon^{1}_{-1}} + \\epsilon^{0}_{1} \\overline{\\epsilon^{1}_{0}}\\right)}{6 \\Delta - 6 \\omega_{F}} - \\frac{g_{0}^{2}}{6 \\Delta} \\left(\\epsilon^{0}_{0} \\overline{\\epsilon^{1}_{-1}} + \\epsilon^{0}_{1} \\overline{\\epsilon^{1}_{0}}\\right)=\\Omega_{0} \\left(\\epsilon^{0}_{0} \\overline{\\epsilon^{1}_{-1}} + \\epsilon^{0}_{1} \\overline{\\epsilon^{1}_{0}}\\right)$"
      ],
      "text/plain": [
       "<IPython.core.display.Latex object>"
      ]
     },
     "metadata": {},
     "output_type": "display_data"
    },
    {
     "data": {
      "text/latex": [
       "$\\Omega_{1-1,11}=0=0$"
      ],
      "text/plain": [
       "<IPython.core.display.Latex object>"
      ]
     },
     "metadata": {},
     "output_type": "display_data"
    },
    {
     "data": {
      "text/latex": [
       "$\\Omega_{10,11}=\\frac{g_{0}^{2} \\left(\\epsilon^{0}_{0} \\overline{\\epsilon^{1}_{-1}} + \\epsilon^{0}_{1} \\overline{\\epsilon^{1}_{0}}\\right)}{6 \\Delta - 6 \\omega_{F}} - \\frac{g_{0}^{2}}{6 \\Delta} \\left(\\epsilon^{0}_{0} \\overline{\\epsilon^{1}_{-1}} + \\epsilon^{0}_{1} \\overline{\\epsilon^{1}_{0}}\\right)=\\Omega_{0} \\left(\\epsilon^{0}_{0} \\overline{\\epsilon^{1}_{-1}} + \\epsilon^{0}_{1} \\overline{\\epsilon^{1}_{0}}\\right)$"
      ],
      "text/plain": [
       "<IPython.core.display.Latex object>"
      ]
     },
     "metadata": {},
     "output_type": "display_data"
    }
   ],
   "source": [
    "D1_excited = [*hyperfinestates(1),*hyperfinestates(0)]\n",
    "D2_excited = [*hyperfinestates(2),*hyperfinestates(1)]\n",
    "I_ion = Rational(1,2)\n",
    "ground_states = [*hyperfinestates(0),*hyperfinestates(1)]\n",
    "\n",
    "\n",
    "for n in range(len(ground_states)):\n",
    "    for t in range(n+1, len(ground_states)):\n",
    "        state_0 = ground_states[n]\n",
    "        state_1 = ground_states[t]\n",
    "        s = two_photon_Rabi(state_0, state_1)\n",
    "        display(Latex(\"$\\Omega_{\" + str(state_0[0])+  str(state_0[1]) + \\\n",
    "                      \",\" + str(state_1[0])+  str(state_1[1])\n",
    "                      +\"}=\"+latex(s)+\"=\"+ \\\n",
    "                      latex(simplify(s).subs(Omega_0_expression,Omega_0))\n",
    "                      + \"$\"))"
   ]
  },
  {
   "cell_type": "markdown",
   "metadata": {},
   "source": [
    "## Fourth Order Differential Stark Shift"
   ]
  },
  {
   "cell_type": "markdown",
   "metadata": {},
   "source": [
    "With the two-photon Rabi frequency we just derived, we can now calculate the energy shift.\n",
    "For state $\\ket{00}$, we have"
   ]
  },
  {
   "cell_type": "code",
   "execution_count": 6,
   "metadata": {
    "ExecuteTime": {
     "end_time": "2018-08-17T22:30:07.519198Z",
     "start_time": "2018-08-17T22:30:07.516891Z"
    }
   },
   "outputs": [],
   "source": [
    "def lower(state_0, state_1):\n",
    "    if state_0[0]< state_1[0]:\n",
    "        return True\n",
    "    elif state_0[1]< state_1[1]:\n",
    "        return True\n",
    "    else:\n",
    "        return False"
   ]
  },
  {
   "cell_type": "code",
   "execution_count": 7,
   "metadata": {
    "ExecuteTime": {
     "end_time": "2018-08-17T22:30:08.398268Z",
     "start_time": "2018-08-17T22:30:07.520484Z"
    }
   },
   "outputs": [
    {
     "data": {
      "text/latex": [
       "$E^{(4)}_{00,1-1}=\\frac{\\Omega_{0}^{2} \\left(\\epsilon^{0}_{-1} \\overline{\\epsilon^{1}_{0}} + \\epsilon^{0}_{0} \\overline{\\epsilon^{1}_{1}}\\right) \\left(\\epsilon^{1}_{0} \\overline{\\epsilon^{0}_{-1}} + \\epsilon^{1}_{1} \\overline{\\epsilon^{0}_{0}}\\right)}{4 \\omega_{0} - 4 \\omega_{1} - 4 \\omega_{HF} + 4 \\omega_{Zee}}$"
      ],
      "text/plain": [
       "<IPython.core.display.Latex object>"
      ]
     },
     "metadata": {},
     "output_type": "display_data"
    },
    {
     "data": {
      "text/latex": [
       "$E^{(4)}_{00,10}=- \\frac{\\Omega_{0}^{2} \\left(\\epsilon^{0}_{-1} \\overline{\\epsilon^{1}_{-1}} - \\epsilon^{0}_{1} \\overline{\\epsilon^{1}_{1}}\\right) \\left(\\epsilon^{1}_{-1} \\overline{\\epsilon^{0}_{-1}} - \\epsilon^{1}_{1} \\overline{\\epsilon^{0}_{1}}\\right)}{- 4 \\omega_{0} + 4 \\omega_{1} + 4 \\omega_{HF}}$"
      ],
      "text/plain": [
       "<IPython.core.display.Latex object>"
      ]
     },
     "metadata": {},
     "output_type": "display_data"
    },
    {
     "data": {
      "text/latex": [
       "$E^{(4)}_{00,11}=- \\frac{\\Omega_{0}^{2} \\left(\\epsilon^{0}_{0} \\overline{\\epsilon^{1}_{-1}} + \\epsilon^{0}_{1} \\overline{\\epsilon^{1}_{0}}\\right) \\left(\\epsilon^{1}_{-1} \\overline{\\epsilon^{0}_{0}} + \\epsilon^{1}_{0} \\overline{\\epsilon^{0}_{1}}\\right)}{- 4 \\omega_{0} + 4 \\omega_{1} + 4 \\omega_{HF} + 4 \\omega_{Zee}}$"
      ],
      "text/plain": [
       "<IPython.core.display.Latex object>"
      ]
     },
     "metadata": {},
     "output_type": "display_data"
    },
    {
     "data": {
      "text/latex": [
       "$E^{(4)}_{00}=- \\frac{\\Omega_{0}^{2} \\left(\\epsilon^{0}_{-1} \\overline{\\epsilon^{1}_{-1}} - \\epsilon^{0}_{1} \\overline{\\epsilon^{1}_{1}}\\right) \\left(\\epsilon^{1}_{-1} \\overline{\\epsilon^{0}_{-1}} - \\epsilon^{1}_{1} \\overline{\\epsilon^{0}_{1}}\\right)}{- 4 \\omega_{0} + 4 \\omega_{1} + 4 \\omega_{HF}} + \\frac{\\Omega_{0}^{2} \\left(\\epsilon^{0}_{-1} \\overline{\\epsilon^{1}_{0}} + \\epsilon^{0}_{0} \\overline{\\epsilon^{1}_{1}}\\right) \\left(\\epsilon^{1}_{0} \\overline{\\epsilon^{0}_{-1}} + \\epsilon^{1}_{1} \\overline{\\epsilon^{0}_{0}}\\right)}{4 \\omega_{0} - 4 \\omega_{1} - 4 \\omega_{HF} + 4 \\omega_{Zee}} - \\frac{\\Omega_{0}^{2} \\left(\\epsilon^{0}_{0} \\overline{\\epsilon^{1}_{-1}} + \\epsilon^{0}_{1} \\overline{\\epsilon^{1}_{0}}\\right) \\left(\\epsilon^{1}_{-1} \\overline{\\epsilon^{0}_{0}} + \\epsilon^{1}_{0} \\overline{\\epsilon^{0}_{1}}\\right)}{- 4 \\omega_{0} + 4 \\omega_{1} + 4 \\omega_{HF} + 4 \\omega_{Zee}}$"
      ],
      "text/plain": [
       "<IPython.core.display.Latex object>"
      ]
     },
     "metadata": {},
     "output_type": "display_data"
    }
   ],
   "source": [
    "D1_excited = [*hyperfinestates(1),*hyperfinestates(0)]\n",
    "D2_excited = [*hyperfinestates(2),*hyperfinestates(1)]\n",
    "I_ion = Rational(1,2)\n",
    "ground_states = [*hyperfinestates(0,0,0),*hyperfinestates(1,omega_HF, omega_Zee)]\n",
    "state_0 = (0,0,0)\n",
    "s_sum = 0\n",
    "for t in range(len(ground_states)):\n",
    "    \n",
    "    state_1 = ground_states[t]\n",
    "    if state_1[0]==state_0[0] and state_1[1] == state_0[1]:\n",
    "        continue\n",
    "    s = two_photon_Rabi(state_0, state_1)\n",
    "    s = simplify(s/Omega_0_expression)*Omega_0\n",
    "    #s = -simplify(conjugate(s)*s / ((state_1[2] - state_0[2])-(omega_0-omega_1)))/4\n",
    "    \n",
    "    if lower(state_0, state_1):\n",
    "        omega_d_beam = (omega_1-omega_0)\n",
    "    else:\n",
    "        omega_d_beam = (omega_0-omega_1)\n",
    "        \n",
    "    s = simplify(conjugate(s)*s / ((state_0[2] - state_1[2])-omega_d_beam))/4\n",
    "    s_sum = s_sum + s\n",
    "    display(Latex(\"$E^{(4)}_{\" + str(state_0[0])+  str(state_0[1]) + \\\n",
    "                      \",\" + str(state_1[0])+  str(state_1[1])\n",
    "                      +\"}=\"+latex(s) + \"$\"))\n",
    "#s_sum=simplify(s_sum)\n",
    "display(Latex(\"$E^{(4)}_{\" + str(state_0[0])+  str(state_0[1]) +\"}=\"+latex(s_sum) + \"$\"))"
   ]
  },
  {
   "cell_type": "markdown",
   "metadata": {},
   "source": [
    "For state $\\ket{10}$, we have"
   ]
  },
  {
   "cell_type": "code",
   "execution_count": 8,
   "metadata": {
    "ExecuteTime": {
     "end_time": "2018-08-17T22:30:09.135747Z",
     "start_time": "2018-08-17T22:30:08.399535Z"
    }
   },
   "outputs": [
    {
     "data": {
      "text/latex": [
       "$E^{(4)}_{10,00}=\\frac{\\Omega_{0}^{2} \\left(\\epsilon^{0}_{-1} \\overline{\\epsilon^{1}_{-1}} - \\epsilon^{0}_{1} \\overline{\\epsilon^{1}_{1}}\\right) \\left(\\epsilon^{1}_{-1} \\overline{\\epsilon^{0}_{-1}} - \\epsilon^{1}_{1} \\overline{\\epsilon^{0}_{1}}\\right)}{- 4 \\omega_{0} + 4 \\omega_{1} + 4 \\omega_{HF}}$"
      ],
      "text/plain": [
       "<IPython.core.display.Latex object>"
      ]
     },
     "metadata": {},
     "output_type": "display_data"
    },
    {
     "data": {
      "text/latex": [
       "$E^{(4)}_{10,1-1}=\\frac{\\Omega_{0}^{2} \\left(\\epsilon^{0}_{-1} \\overline{\\epsilon^{1}_{0}} + \\epsilon^{0}_{0} \\overline{\\epsilon^{1}_{1}}\\right) \\left(\\epsilon^{1}_{0} \\overline{\\epsilon^{0}_{-1}} + \\epsilon^{1}_{1} \\overline{\\epsilon^{0}_{0}}\\right)}{- 4 \\omega_{0} + 4 \\omega_{1} + 4 \\omega_{Zee}}$"
      ],
      "text/plain": [
       "<IPython.core.display.Latex object>"
      ]
     },
     "metadata": {},
     "output_type": "display_data"
    },
    {
     "data": {
      "text/latex": [
       "$E^{(4)}_{10,11}=- \\frac{\\Omega_{0}^{2} \\left(\\epsilon^{0}_{0} \\overline{\\epsilon^{1}_{-1}} + \\epsilon^{0}_{1} \\overline{\\epsilon^{1}_{0}}\\right) \\left(\\epsilon^{1}_{-1} \\overline{\\epsilon^{0}_{0}} + \\epsilon^{1}_{0} \\overline{\\epsilon^{0}_{1}}\\right)}{- 4 \\omega_{0} + 4 \\omega_{1} + 4 \\omega_{Zee}}$"
      ],
      "text/plain": [
       "<IPython.core.display.Latex object>"
      ]
     },
     "metadata": {},
     "output_type": "display_data"
    },
    {
     "data": {
      "text/latex": [
       "$E^{(4)}_{10}=\\frac{\\Omega_{0}^{2} \\left(\\epsilon^{0}_{-1} \\overline{\\epsilon^{1}_{-1}} - \\epsilon^{0}_{1} \\overline{\\epsilon^{1}_{1}}\\right) \\left(\\epsilon^{1}_{-1} \\overline{\\epsilon^{0}_{-1}} - \\epsilon^{1}_{1} \\overline{\\epsilon^{0}_{1}}\\right)}{- 4 \\omega_{0} + 4 \\omega_{1} + 4 \\omega_{HF}} + \\frac{\\Omega_{0}^{2} \\left(\\epsilon^{0}_{-1} \\overline{\\epsilon^{1}_{0}} + \\epsilon^{0}_{0} \\overline{\\epsilon^{1}_{1}}\\right) \\left(\\epsilon^{1}_{0} \\overline{\\epsilon^{0}_{-1}} + \\epsilon^{1}_{1} \\overline{\\epsilon^{0}_{0}}\\right)}{- 4 \\omega_{0} + 4 \\omega_{1} + 4 \\omega_{Zee}} - \\frac{\\Omega_{0}^{2} \\left(\\epsilon^{0}_{0} \\overline{\\epsilon^{1}_{-1}} + \\epsilon^{0}_{1} \\overline{\\epsilon^{1}_{0}}\\right) \\left(\\epsilon^{1}_{-1} \\overline{\\epsilon^{0}_{0}} + \\epsilon^{1}_{0} \\overline{\\epsilon^{0}_{1}}\\right)}{- 4 \\omega_{0} + 4 \\omega_{1} + 4 \\omega_{Zee}}$"
      ],
      "text/plain": [
       "<IPython.core.display.Latex object>"
      ]
     },
     "metadata": {},
     "output_type": "display_data"
    }
   ],
   "source": [
    "D1_excited = [*hyperfinestates(1),*hyperfinestates(0)]\n",
    "D2_excited = [*hyperfinestates(2),*hyperfinestates(1)]\n",
    "I_ion = Rational(1,2)\n",
    "ground_states = [*hyperfinestates(0,0,0),*hyperfinestates(1,omega_HF, omega_Zee)]\n",
    "state_0 = (1,0,omega_HF)\n",
    "s_sum = 0\n",
    "for t in range(len(ground_states)):\n",
    "    \n",
    "    state_1 = ground_states[t]\n",
    "    if state_1[0]==state_0[0] and state_1[1] == state_0[1]:\n",
    "        continue\n",
    "    s = two_photon_Rabi(state_0, state_1)\n",
    "    s = simplify(s/Omega_0_expression)*Omega_0\n",
    "    if lower(state_0, state_1):\n",
    "        omega_d_beam = (omega_1-omega_0)\n",
    "    else:\n",
    "        omega_d_beam = (omega_0-omega_1)\n",
    "    s = simplify(conjugate(s)*s / ((state_0[2] - state_1[2])-omega_d_beam))/4\n",
    "    s_sum = s_sum + s\n",
    "    display(Latex(\"$E^{(4)}_{\" + str(state_0[0])+  str(state_0[1]) + \\\n",
    "                      \",\" + str(state_1[0])+  str(state_1[1])\n",
    "                      +\"}=\"+latex(s) + \"$\"))\n",
    "#s_sum=simplify(s_sum)\n",
    "display(Latex(\"$E^{(4)}_{\" + str(state_0[0])+  str(state_0[1]) +\"}=\"+latex(s_sum) + \"$\"))"
   ]
  },
  {
   "cell_type": "markdown",
   "metadata": {},
   "source": [
    "We thus can find the fourth order differential Stark shift:"
   ]
  },
  {
   "cell_type": "code",
   "execution_count": 9,
   "metadata": {
    "ExecuteTime": {
     "end_time": "2018-08-17T22:30:10.552721Z",
     "start_time": "2018-08-17T22:30:09.136882Z"
    }
   },
   "outputs": [
    {
     "data": {
      "text/latex": [
       "$\\delta \\omega^{(4)}=\\frac{\\Omega_{0}^{2} \\left(\\epsilon^{0}_{-1} \\overline{\\epsilon^{1}_{-1}} - \\epsilon^{0}_{1} \\overline{\\epsilon^{1}_{1}}\\right) \\left(\\epsilon^{1}_{-1} \\overline{\\epsilon^{0}_{-1}} - \\epsilon^{1}_{1} \\overline{\\epsilon^{0}_{1}}\\right)}{- 2 \\omega_{0} + 2 \\omega_{1} + 2 \\omega_{HF}} - \\frac{\\Omega_{0}^{2} \\left(\\epsilon^{0}_{-1} \\overline{\\epsilon^{1}_{0}} + \\epsilon^{0}_{0} \\overline{\\epsilon^{1}_{1}}\\right) \\left(\\epsilon^{1}_{0} \\overline{\\epsilon^{0}_{-1}} + \\epsilon^{1}_{1} \\overline{\\epsilon^{0}_{0}}\\right)}{4 \\omega_{0} - 4 \\omega_{1} - 4 \\omega_{HF} + 4 \\omega_{Zee}} + \\frac{\\Omega_{0}^{2} \\left(\\epsilon^{0}_{-1} \\overline{\\epsilon^{1}_{0}} + \\epsilon^{0}_{0} \\overline{\\epsilon^{1}_{1}}\\right) \\left(\\epsilon^{1}_{0} \\overline{\\epsilon^{0}_{-1}} + \\epsilon^{1}_{1} \\overline{\\epsilon^{0}_{0}}\\right)}{- 4 \\omega_{0} + 4 \\omega_{1} + 4 \\omega_{Zee}} + \\frac{\\Omega_{0}^{2} \\left(\\epsilon^{0}_{0} \\overline{\\epsilon^{1}_{-1}} + \\epsilon^{0}_{1} \\overline{\\epsilon^{1}_{0}}\\right) \\left(\\epsilon^{1}_{-1} \\overline{\\epsilon^{0}_{0}} + \\epsilon^{1}_{0} \\overline{\\epsilon^{0}_{1}}\\right)}{- 4 \\omega_{0} + 4 \\omega_{1} + 4 \\omega_{HF} + 4 \\omega_{Zee}} - \\frac{\\Omega_{0}^{2} \\left(\\epsilon^{0}_{0} \\overline{\\epsilon^{1}_{-1}} + \\epsilon^{0}_{1} \\overline{\\epsilon^{1}_{0}}\\right) \\left(\\epsilon^{1}_{-1} \\overline{\\epsilon^{0}_{0}} + \\epsilon^{1}_{0} \\overline{\\epsilon^{0}_{1}}\\right)}{- 4 \\omega_{0} + 4 \\omega_{1} + 4 \\omega_{Zee}}$"
      ],
      "text/plain": [
       "<IPython.core.display.Latex object>"
      ]
     },
     "metadata": {},
     "output_type": "display_data"
    }
   ],
   "source": [
    "D1_excited = [*hyperfinestates(1),*hyperfinestates(0)]\n",
    "D2_excited = [*hyperfinestates(2),*hyperfinestates(1)]\n",
    "I_ion = Rational(1,2)\n",
    "ground_states = [*hyperfinestates(0,0,0),*hyperfinestates(1,omega_HF, omega_Zee)]\n",
    "state_pair = [(0,0,0), (1,0,omega_HF)]\n",
    "\n",
    "state_0 = state_pair[0]\n",
    "s_sum = 0\n",
    "for t in range(len(ground_states)):\n",
    "    \n",
    "    state_1 = ground_states[t]\n",
    "    if state_1[0]==state_0[0] and state_1[1] == state_0[1]:\n",
    "        continue\n",
    "    s = two_photon_Rabi(state_0, state_1)\n",
    "    s = simplify(s/Omega_0_expression)*Omega_0\n",
    "    if lower(state_0, state_1):\n",
    "        omega_d_beam = (omega_1-omega_0)\n",
    "    else:\n",
    "        omega_d_beam = (omega_0-omega_1)\n",
    "        \n",
    "    s = simplify(conjugate(s)*s / ((state_0[2] - state_1[2])-omega_d_beam))/4\n",
    "    s_sum = s_sum + s\n",
    "#s_sum=simplify(s_sum)\n",
    "s_sum_0 = s_sum\n",
    "\n",
    "state_0 = state_pair[1]\n",
    "s_sum = 0\n",
    "for t in range(len(ground_states)):\n",
    "    \n",
    "    state_1 = ground_states[t]\n",
    "    if state_1[0]==state_0[0] and state_1[1] == state_0[1]:\n",
    "        continue\n",
    "    s = two_photon_Rabi(state_0, state_1)\n",
    "    s = simplify(s/Omega_0_expression)*Omega_0\n",
    "    if lower(state_0, state_1):\n",
    "        omega_d_beam = (omega_1-omega_0)\n",
    "    else:\n",
    "        omega_d_beam = (omega_0-omega_1)\n",
    "        \n",
    "    s = simplify(conjugate(s)*s / ((state_0[2] - state_1[2])-omega_d_beam))/4\n",
    "    s_sum = s_sum + s\n",
    "#s_sum=simplify(s_sum)\n",
    "s_sum_1 = s_sum\n",
    "\n",
    "d_energy = s_sum_1 - s_sum_0\n",
    "display(Latex(\"$\\delta \\omega^{(4)}=\"+latex(d_energy) + \"$\"))"
   ]
  },
  {
   "cell_type": "markdown",
   "metadata": {},
   "source": [
    "Subsitute the polarization mentioned in paper into the equation (same polarization for both beam), we can see the result shown here is consistant with the results shown in the paper."
   ]
  },
  {
   "cell_type": "code",
   "execution_count": 10,
   "metadata": {
    "ExecuteTime": {
     "end_time": "2018-08-17T22:30:10.601445Z",
     "start_time": "2018-08-17T22:30:10.553869Z"
    }
   },
   "outputs": [
    {
     "data": {
      "text/latex": [
       "$\\delta \\omega^{(4)}_{\\hat{\\epsilon}=(1,0,0)}=\\frac{\\Omega_{0}^{2}}{- 2 \\omega_{0} + 2 \\omega_{1} + 2 \\omega_{HF}}$"
      ],
      "text/plain": [
       "<IPython.core.display.Latex object>"
      ]
     },
     "metadata": {},
     "output_type": "display_data"
    },
    {
     "data": {
      "text/latex": [
       "$\\delta \\omega^{(4)}_{\\hat{\\epsilon}=(\\frac{1}{2},\\frac{\\sqrt{2}}{2},\\frac{1}{2})}=- \\frac{\\Omega_{0}^{2}}{8 \\omega_{0} - 8 \\omega_{1} - 8 \\omega_{HF} + 8 \\omega_{Zee}} + \\frac{\\Omega_{0}^{2}}{- 8 \\omega_{0} + 8 \\omega_{1} + 8 \\omega_{HF} + 8 \\omega_{Zee}}$"
      ],
      "text/plain": [
       "<IPython.core.display.Latex object>"
      ]
     },
     "metadata": {},
     "output_type": "display_data"
    },
    {
     "data": {
      "text/latex": [
       "$\\delta \\omega^{(4)}_{\\hat{\\epsilon}=(1,0,0)}=\\frac{\\Omega_{0}^{2}}{- 2 \\omega_{0} + 2 \\omega_{1} + 2 \\omega_{HF}}$"
      ],
      "text/plain": [
       "<IPython.core.display.Latex object>"
      ]
     },
     "metadata": {},
     "output_type": "display_data"
    },
    {
     "data": {
      "text/latex": [
       "$\\delta \\omega^{(4)}_{\\hat{\\epsilon}=(0,1,0)}=0$"
      ],
      "text/plain": [
       "<IPython.core.display.Latex object>"
      ]
     },
     "metadata": {},
     "output_type": "display_data"
    }
   ],
   "source": [
    "def d_denergy_single_beam(pol):\n",
    "    return sub_polirization(d_energy,pol,pol)\n",
    "for pol in [(1,0,0),(Rational(1/2),1/sqrt(2),Rational(1/2)),(1,0,0), (0,1,0)]:\n",
    "    display(Latex(\"$\\delta \\omega^{(4)}\"+ \"_{\\hat{\\epsilon}=\"+\n",
    "                  \"({0},{1},{2})\".format(latex(pol[0]),latex(pol[1]),latex(pol[2]))+\n",
    "                  \"}=\"+latex(d_denergy_single_beam(pol)) + \"$\"))"
   ]
  },
  {
   "cell_type": "markdown",
   "metadata": {},
   "source": [
    "## Pulse Laser\n",
    "For a pulse laser with repeatation rate $\\nu_{rep}$, we can approximate it with combtooths within a hyperbolic secant envelope. For the $k$th combtooh with $k \\nu_{rep}$ detuning from the central frequency, it has Rabi frequency:\n",
    "$$\n",
    "g_k = g_0 \\sqrt{\\pi \\nu_{rep} \\tau} \\mathrm{sech} {(2\\pi k \\nu_{rep} \\tau )},\n",
    "$$"
   ]
  },
  {
   "cell_type": "markdown",
   "metadata": {},
   "source": [
    "\n",
    "Consider two combtooths, $k_0 = l + k_1$ and $k_1$. Their frequencies separation would be $2 \\pi l \\nu_{rep}$, which means\n",
    "$$\n",
    "\\omega_0 = 2 \\pi l \\nu_{rep} + \\omega_{1}\n",
    "$$\n",
    "The resonant two-photon Rabi frequency of the two combtooth (consider only one excited state) would become\n",
    "$$\n",
    "\\frac{g_{k_1+l}g_{k_1}}{2 \\Delta} \n",
    "$$\n",
    "\n",
    "With the approximation (**Note that in the paper the summation symbol is missing.**)\n",
    "$$\n",
    "\\sum_{k_1 = - \\infty}^{\\infty} g_{k_1+l}g_{k_1}  \\approx  g_0 ^2  \\mathrm{sech} {(\\pi l \\nu_{rep} \\tau )}\n",
    "$$\n",
    ", we will can derive the fourth order Stark shift of pulse laser.\n",
    "$$\n",
    "\\delta \\omega^{(4)} =  \\sum_{l = 1}^{\\infty} \\sum_{k_1 = - \\infty}^{\\infty}\\delta \\omega^{(4)}_{kl}\\\\\n",
    "= \\sum_{l = 1}^{\\infty}  \\frac{\\Omega_0^2 \\mathrm{sech}^2 {(\\pi l \\nu_{rep} \\tau )}}{2\\delta_l}\\\\\n",
    "= \\sum_{l = 1}^{\\infty}  \\frac{\\Omega_0^2 \\mathrm{sech}^2 {(\\pi l \\nu_{rep} \\tau )}}{2(\\omega_{HF} - 2\\pi l \\nu_{rep})}\n",
    "$$"
   ]
  },
  {
   "cell_type": "code",
   "execution_count": 11,
   "metadata": {
    "ExecuteTime": {
     "end_time": "2018-08-17T22:30:10.729860Z",
     "start_time": "2018-08-17T22:30:10.602788Z"
    }
   },
   "outputs": [
    {
     "data": {
      "text/latex": [
       "$\\delta \\omega^{(4)}=\\sum_{l=1}^{\\infty} \\left(\\frac{\\Omega_{0}^{2} \\operatorname{sech}^{2}{\\left (\\pi l \\nu_{rep} \\tau \\right )}}{- 4 \\pi l \\nu_{rep} + 2 \\omega_{HF}} \\left(\\epsilon^{0}_{-1} \\overline{\\epsilon^{1}_{-1}} - \\epsilon^{0}_{1} \\overline{\\epsilon^{1}_{1}}\\right) \\left(\\epsilon^{1}_{-1} \\overline{\\epsilon^{0}_{-1}} - \\epsilon^{1}_{1} \\overline{\\epsilon^{0}_{1}}\\right) - \\frac{\\Omega_{0}^{2} \\left(\\epsilon^{0}_{-1} \\overline{\\epsilon^{1}_{0}} + \\epsilon^{0}_{0} \\overline{\\epsilon^{1}_{1}}\\right) \\left(\\epsilon^{1}_{0} \\overline{\\epsilon^{0}_{-1}} + \\epsilon^{1}_{1} \\overline{\\epsilon^{0}_{0}}\\right) \\operatorname{sech}^{2}{\\left (\\pi l \\nu_{rep} \\tau \\right )}}{8 \\pi l \\nu_{rep} - 4 \\omega_{HF} + 4 \\omega_{Zee}} + \\frac{\\Omega_{0}^{2} \\operatorname{sech}^{2}{\\left (\\pi l \\nu_{rep} \\tau \\right )}}{- 8 \\pi l \\nu_{rep} + 4 \\omega_{Zee}} \\left(\\epsilon^{0}_{-1} \\overline{\\epsilon^{1}_{0}} + \\epsilon^{0}_{0} \\overline{\\epsilon^{1}_{1}}\\right) \\left(\\epsilon^{1}_{0} \\overline{\\epsilon^{0}_{-1}} + \\epsilon^{1}_{1} \\overline{\\epsilon^{0}_{0}}\\right) + \\frac{\\Omega_{0}^{2} \\left(\\epsilon^{0}_{0} \\overline{\\epsilon^{1}_{-1}} + \\epsilon^{0}_{1} \\overline{\\epsilon^{1}_{0}}\\right) \\left(\\epsilon^{1}_{-1} \\overline{\\epsilon^{0}_{0}} + \\epsilon^{1}_{0} \\overline{\\epsilon^{0}_{1}}\\right) \\operatorname{sech}^{2}{\\left (\\pi l \\nu_{rep} \\tau \\right )}}{- 8 \\pi l \\nu_{rep} + 4 \\omega_{HF} + 4 \\omega_{Zee}} - \\frac{\\Omega_{0}^{2} \\operatorname{sech}^{2}{\\left (\\pi l \\nu_{rep} \\tau \\right )}}{- 8 \\pi l \\nu_{rep} + 4 \\omega_{Zee}} \\left(\\epsilon^{0}_{0} \\overline{\\epsilon^{1}_{-1}} + \\epsilon^{0}_{1} \\overline{\\epsilon^{1}_{0}}\\right) \\left(\\epsilon^{1}_{-1} \\overline{\\epsilon^{0}_{0}} + \\epsilon^{1}_{0} \\overline{\\epsilon^{0}_{1}}\\right)\\right)$"
      ],
      "text/plain": [
       "<IPython.core.display.Latex object>"
      ]
     },
     "metadata": {},
     "output_type": "display_data"
    }
   ],
   "source": [
    "#domega_four = d_denergy_single_beam((1,0,0))\n",
    "domega_four = d_energy\n",
    "domega_four = domega_four.subs(omega_0, omega_1 + l*2*pi_symbo*nu_rep)\n",
    "domega_four = domega_four.subs(Omega_0, Omega_0*sech(pi_symbo*l*nu_rep*tau))\n",
    "domega_four_term = domega_four\n",
    "domega_four = Sum(domega_four, (l, 1, oo))\n",
    "display(Latex(\"$\\delta \\omega^{(4)}=\"+latex(domega_four) + \"$\"))"
   ]
  },
  {
   "cell_type": "markdown",
   "metadata": {},
   "source": [
    "Since both of the combtooth are from the same beam, their polarization will be the same, too.\n",
    "$$\n",
    "\\epsilon^{0}_i = \\epsilon^{1}_i\n",
    "$$"
   ]
  },
  {
   "cell_type": "markdown",
   "metadata": {},
   "source": [
    "For beams with certain polirizations, it becomes:"
   ]
  },
  {
   "cell_type": "code",
   "execution_count": 12,
   "metadata": {
    "ExecuteTime": {
     "end_time": "2018-08-17T22:30:10.920609Z",
     "start_time": "2018-08-17T22:30:10.731229Z"
    }
   },
   "outputs": [
    {
     "data": {
      "text/latex": [
       "$\\delta \\omega^{(4)}_{\\hat{\\epsilon}=(1,0,0)}=\\sum_{l=1}^{\\infty} \\frac{\\Omega_{0}^{2} \\operatorname{sech}^{2}{\\left (\\pi l \\nu_{rep} \\tau \\right )}}{- 4 \\pi l \\nu_{rep} + 2 \\omega_{HF}}$"
      ],
      "text/plain": [
       "<IPython.core.display.Latex object>"
      ]
     },
     "metadata": {},
     "output_type": "display_data"
    },
    {
     "data": {
      "text/latex": [
       "$\\delta \\omega^{(4)}_{\\hat{\\epsilon}=(\\frac{1}{2},\\frac{\\sqrt{2}}{2},\\frac{1}{2})}=\\sum_{l=1}^{\\infty} \\left(- \\frac{\\Omega_{0}^{2} \\operatorname{sech}^{2}{\\left (\\pi l \\nu_{rep} \\tau \\right )}}{16 \\pi l \\nu_{rep} - 8 \\omega_{HF} + 8 \\omega_{Zee}} + \\frac{\\Omega_{0}^{2} \\operatorname{sech}^{2}{\\left (\\pi l \\nu_{rep} \\tau \\right )}}{- 16 \\pi l \\nu_{rep} + 8 \\omega_{HF} + 8 \\omega_{Zee}}\\right)$"
      ],
      "text/plain": [
       "<IPython.core.display.Latex object>"
      ]
     },
     "metadata": {},
     "output_type": "display_data"
    },
    {
     "data": {
      "text/latex": [
       "$\\delta \\omega^{(4)}_{\\hat{\\epsilon}=(0,0,1)}=\\sum_{l=1}^{\\infty} \\frac{\\Omega_{0}^{2} \\operatorname{sech}^{2}{\\left (\\pi l \\nu_{rep} \\tau \\right )}}{- 4 \\pi l \\nu_{rep} + 2 \\omega_{HF}}$"
      ],
      "text/plain": [
       "<IPython.core.display.Latex object>"
      ]
     },
     "metadata": {},
     "output_type": "display_data"
    }
   ],
   "source": [
    "def d_denergy_comb_single_beam(pol):\n",
    "    return sub_polirization(domega_four,pol,pol)\n",
    "for pol in [(1,0,0),(Rational(1/2),1/sqrt(2),Rational(1/2)),(0,0,1)]:\n",
    "    display(Latex(\"$\\delta \\omega^{(4)}\"+ \"_{\\hat{\\epsilon}=\"+\n",
    "                  \"({0},{1},{2})\".format(latex(pol[0]),latex(pol[1]),latex(pol[2]))+\n",
    "                  \"}=\"+latex(d_denergy_comb_single_beam(pol)) + \"$\"))"
   ]
  },
  {
   "cell_type": "markdown",
   "metadata": {},
   "source": [
    "## Numerical Evaluation\n",
    "In this section, we will evaluate the fourth-order Stark shift numerically. The pulse laser parameter are taken from https://edge.coherent.com/assets/pdf/PaladinAdvanced355_Datasheet_2017.pdf\n",
    "\n",
    "For the following parameters"
   ]
  },
  {
   "cell_type": "code",
   "execution_count": 13,
   "metadata": {
    "ExecuteTime": {
     "end_time": "2018-08-17T22:30:10.928186Z",
     "start_time": "2018-08-17T22:30:10.921773Z"
    }
   },
   "outputs": [
    {
     "data": {
      "text/latex": [
       "$$\\nu_{rep} = 80.00 MHz$$"
      ],
      "text/plain": [
       "<IPython.core.display.Math object>"
      ]
     },
     "metadata": {},
     "output_type": "display_data"
    },
    {
     "data": {
      "text/latex": [
       "$$\\tau = 15.00 ps$$"
      ],
      "text/plain": [
       "<IPython.core.display.Math object>"
      ]
     },
     "metadata": {},
     "output_type": "display_data"
    },
    {
     "data": {
      "text/latex": [
       "$$\\omega_{HF} = 12.64 GHz$$"
      ],
      "text/plain": [
       "<IPython.core.display.Math object>"
      ]
     },
     "metadata": {},
     "output_type": "display_data"
    },
    {
     "data": {
      "text/latex": [
       "$$\\omega_{Zee} = 10.00 MHz$$"
      ],
      "text/plain": [
       "<IPython.core.display.Math object>"
      ]
     },
     "metadata": {},
     "output_type": "display_data"
    },
    {
     "data": {
      "text/latex": [
       "$$\\hat{\\epsilon} = \\left [ \\left ( 1, \\quad 0, \\quad 0\\right ), \\quad \\left ( \\frac{1}{2}, \\quad \\frac{\\sqrt{2}}{2}, \\quad \\frac{1}{2}\\right )\\right ]$$"
      ],
      "text/plain": [
       "<IPython.core.display.Math object>"
      ]
     },
     "metadata": {},
     "output_type": "display_data"
    }
   ],
   "source": [
    "nu = 80*mega\n",
    "tau_v = 15*pico\n",
    "k_list = np.arange(-1000,1001)\n",
    "omega_HF_val = 12.642821*giga*2*pi\n",
    "omega_zee_val = 10*mega*2*pi\n",
    "pols = [(1,0,0),(Rational(1/2),1/sqrt(2),Rational(1/2))]\n",
    "\n",
    "display(Math(r\"\\nu_{rep} = %.2f MHz\" % (nu/mega)))\n",
    "display(Math(r\"\\tau = %.2f ps\" % (tau_v/pico)))\n",
    "display(Math(r\"\\omega_{HF} = %.2f GHz\" % (omega_HF_val/giga/2/pi)))\n",
    "display(Math(r\"\\omega_{Zee} = %.2f MHz\" % (omega_zee_val/mega/2/pi)))\n",
    "display(Math(r\"\\hat{\\epsilon} = %s\" % (latex(pols))))\n",
    "l_vals = range(140,180)"
   ]
  },
  {
   "cell_type": "markdown",
   "metadata": {},
   "source": [
    ", we have"
   ]
  },
  {
   "cell_type": "code",
   "execution_count": 14,
   "metadata": {
    "ExecuteTime": {
     "end_time": "2018-08-17T22:30:11.741282Z",
     "start_time": "2018-08-17T22:30:10.929157Z"
    }
   },
   "outputs": [
    {
     "data": {
      "text/latex": [
       "$\\delta \\omega^{(4)}_{\\hat{\\epsilon} = \\left ( 1, \\quad 0, \\quad 0\\right ) } = 1596.004275 \\frac{ \\Omega_0^2 }{\\omega_{HF}}$"
      ],
      "text/plain": [
       "<IPython.core.display.Latex object>"
      ]
     },
     "metadata": {},
     "output_type": "display_data"
    },
    {
     "data": {
      "text/latex": [
       "$\\delta \\omega^{(4)}_{\\hat{\\epsilon} = \\left ( \\frac{1}{2}, \\quad \\frac{\\sqrt{2}}{2}, \\quad \\frac{1}{2}\\right ) } = -72.343419 \\frac{ \\Omega_0^2 }{\\omega_{HF}}$"
      ],
      "text/plain": [
       "<IPython.core.display.Latex object>"
      ]
     },
     "metadata": {},
     "output_type": "display_data"
    },
    {
     "data": {
      "image/png": "[encoded data removed]",
      "text/plain": [
       "<matplotlib.figure.Figure at 0x7f5888b7b5f8>"
      ]
     },
     "metadata": {},
     "output_type": "display_data"
    }
   ],
   "source": [
    "plt.rcParams['figure.figsize'] = [20, 10]\n",
    "plt.rcParams.update({'font.size': 30})\n",
    "def analysis():\n",
    "    domega_four_term_sub = domega_four_term\n",
    "    domega_four_term_sub = domega_four_term_sub*omega_HF\n",
    "    domega_four_term_sub = domega_four_term_sub.subs(Omega_0, 1)\n",
    "    domega_four_term_sub = domega_four_term_sub.subs(nu_rep, nu)\n",
    "    domega_four_term_sub = domega_four_term_sub.subs(tau, tau_v)\n",
    "    domega_four_term_sub = domega_four_term_sub.subs(omega_Zee, omega_zee_val)\n",
    "    domega_four_term_sub = domega_four_term_sub.subs(omega_HF, omega_HF_val)\n",
    "    for pol in pols:\n",
    "        domega_four_term_sub_pol = sub_polirization(domega_four_term_sub,pol,pol)\n",
    "        domega_lterms = []\n",
    "        for l_val in l_vals:\n",
    "            domega_lterms.append(domega_four_term_sub_pol.subs(l,l_val).doit())   \n",
    "        plt.plot(l_vals, domega_lterms, 'o', label = \"$\\hat{\\epsilon} = %s$\" % latex(pol)) \n",
    "        display(Latex(r\"$\\delta \\omega^{(4)}_{\\hat{\\epsilon} = %s } = \" % latex(pol)+\n",
    "                      r\"%f \\frac{ \\Omega_0^2 }{\\omega_{HF}}$\" % np.sum(domega_lterms)))\n",
    "    plt.xlabel(r'$l$')\n",
    "    plt.ylabel(r\"$\\frac{\\delta \\omega^{(4)}_l \\omega_{HF} }{\\Omega_0^2}$\")\n",
    "    plt.legend()\n",
    "    plt.show()\n",
    "analysis()\n"
   ]
  },
  {
   "cell_type": "markdown",
   "metadata": {},
   "source": [
    "We can notice that only for the terms in which $2 \\pi l \\nu_{rep}$ is close to $\\omega_{HF}$ (close to resonant Raman transition condition) have most of the contributions."
   ]
  },
  {
   "cell_type": "markdown",
   "metadata": {},
   "source": [
    "For polarization $\\hat{\\epsilon} =  \\left ( \\frac{1}{2}, \\quad \\frac{\\sqrt{2}}{2}, \\quad \\frac{1}{2}\\right )$, the differential fourth order Stark shift depends on $\\omega_{Zee}$. Belows we plot the relation."
   ]
  },
  {
   "cell_type": "code",
   "execution_count": 22,
   "metadata": {
    "ExecuteTime": {
     "end_time": "2018-08-17T22:33:36.711184Z",
     "start_time": "2018-08-17T22:32:47.650032Z"
    }
   },
   "outputs": [
    {
     "data": {
      "image/png": "[encoded data removed]",
      "text/plain": [
       "<matplotlib.figure.Figure at 0x7f58690d1f28>"
      ]
     },
     "metadata": {},
     "output_type": "display_data"
    },
    {
     "data": {
      "image/png": "[encoded data removed]",
      "text/plain": [
       "<matplotlib.figure.Figure at 0x7f588cfea898>"
      ]
     },
     "metadata": {},
     "output_type": "display_data"
    }
   ],
   "source": [
    "def analysis2(n):\n",
    "    domega_four_term_sub = domega_four_term\n",
    "    domega_four_term_sub = domega_four_term_sub*omega_HF\n",
    "    domega_four_term_sub = domega_four_term_sub.subs(Omega_0, 1)\n",
    "    domega_four_term_sub = domega_four_term_sub.subs(nu_rep, nu)\n",
    "    domega_four_term_sub = domega_four_term_sub.subs(tau, tau_v)\n",
    "    pol= (Rational(1/2),1/sqrt(2),Rational(1/2))\n",
    "    domega_four_term_sub = sub_polirization(domega_four_term_sub,pol,pol)\n",
    "    domega_four_term_sub = domega_four_term_sub.subs(omega_HF, omega_HF_val)\n",
    "    ozs = np.linspace(0,n*mega*2*pi, num=200)\n",
    "    do = []\n",
    "    for oz in ozs:\n",
    "        domega_four_term_sub_oz = domega_four_term_sub.subs(omega_Zee, oz)\n",
    "        domega_lterms = []\n",
    "        for l_val in l_vals:\n",
    "            domega_lterms.append(domega_four_term_sub_oz.subs(l,l_val).doit())   \n",
    "        do.append(np.sum(domega_lterms))\n",
    "    plt.plot(np.array(ozs)/mega/2/pi, do)\n",
    "    plt.xlabel(r'$\\omega_{Zee} [MHz]$')\n",
    "    plt.ylabel(r\"$\\frac{\\delta \\omega^{(4)} \\omega_{HF} }{\\Omega_0^2}$\")\n",
    "    plt.ylim(-3000,3000)\n",
    "    plt.legend()\n",
    "    plt.show()\n",
    "analysis2(200)\n",
    "analysis2(15)"
   ]
  },
  {
   "cell_type": "markdown",
   "metadata": {},
   "source": [
    "## Calculation for Barium 137 Ions\n",
    "Ba-137 ions have nuclear spin equal to $3/2$ which makes the energy states more complex. With the same method, we can still derive the fourth-order Stark shift. In this section, I will show the calculated results for Ba-137 ions.\n",
    "### Two-photon Rabi Frequency"
   ]
  },
  {
   "cell_type": "code",
   "execution_count": 16,
   "metadata": {
    "ExecuteTime": {
     "end_time": "2018-08-17T22:31:06.606077Z",
     "start_time": "2018-08-17T22:30:59.764839Z"
    },
    "scrolled": false
   },
   "outputs": [
    {
     "data": {
      "text/latex": [
       "$^{Ba_{137}^+}\\Omega_{1-1,10}=- \\frac{g_{0}^{2} \\left(\\epsilon^{0}_{0} \\overline{\\epsilon^{1}_{-1}} + \\epsilon^{0}_{1} \\overline{\\epsilon^{1}_{0}}\\right)}{12 \\Delta - 12 \\omega_{F}} + \\frac{g_{0}^{2}}{12 \\Delta} \\left(\\epsilon^{0}_{0} \\overline{\\epsilon^{1}_{-1}} + \\epsilon^{0}_{1} \\overline{\\epsilon^{1}_{0}}\\right)=\\Omega_{0} \\left(- \\frac{\\epsilon^{0}_{0} \\overline{\\epsilon^{1}_{-1}}}{2} - \\frac{\\epsilon^{0}_{1} \\overline{\\epsilon^{1}_{0}}}{2}\\right)$"
      ],
      "text/plain": [
       "<IPython.core.display.Latex object>"
      ]
     },
     "metadata": {},
     "output_type": "display_data"
    },
    {
     "data": {
      "text/latex": [
       "$^{Ba_{137}^+}\\Omega_{1-1,11}=0=0$"
      ],
      "text/plain": [
       "<IPython.core.display.Latex object>"
      ]
     },
     "metadata": {},
     "output_type": "display_data"
    },
    {
     "data": {
      "text/latex": [
       "$^{Ba_{137}^+}\\Omega_{1-1,2-2}=- \\frac{\\sqrt{6} g_{0}^{2} \\left(\\epsilon^{0}_{-1} \\overline{\\epsilon^{1}_{0}} + \\epsilon^{0}_{0} \\overline{\\epsilon^{1}_{1}}\\right)}{12 \\Delta - 12 \\omega_{F}} + \\frac{\\sqrt{6} g_{0}^{2}}{12 \\Delta} \\left(\\epsilon^{0}_{-1} \\overline{\\epsilon^{1}_{0}} + \\epsilon^{0}_{0} \\overline{\\epsilon^{1}_{1}}\\right)=- \\frac{\\sqrt{6} \\Omega_{0}}{2} \\left(\\epsilon^{0}_{-1} \\overline{\\epsilon^{1}_{0}} + \\epsilon^{0}_{0} \\overline{\\epsilon^{1}_{1}}\\right)$"
      ],
      "text/plain": [
       "<IPython.core.display.Latex object>"
      ]
     },
     "metadata": {},
     "output_type": "display_data"
    },
    {
     "data": {
      "text/latex": [
       "$^{Ba_{137}^+}\\Omega_{1-1,2-1}=\\frac{\\sqrt{3} g_{0}^{2} \\left(\\epsilon^{0}_{-1} \\overline{\\epsilon^{1}_{-1}} - \\epsilon^{0}_{1} \\overline{\\epsilon^{1}_{1}}\\right)}{12 \\Delta - 12 \\omega_{F}} + \\frac{\\sqrt{3} g_{0}^{2}}{12 \\Delta} \\left(- \\epsilon^{0}_{-1} \\overline{\\epsilon^{1}_{-1}} + \\epsilon^{0}_{1} \\overline{\\epsilon^{1}_{1}}\\right)=\\frac{\\sqrt{3} \\Omega_{0}}{2} \\left(\\epsilon^{0}_{-1} \\overline{\\epsilon^{1}_{-1}} - \\epsilon^{0}_{1} \\overline{\\epsilon^{1}_{1}}\\right)$"
      ],
      "text/plain": [
       "<IPython.core.display.Latex object>"
      ]
     },
     "metadata": {},
     "output_type": "display_data"
    },
    {
     "data": {
      "text/latex": [
       "$^{Ba_{137}^+}\\Omega_{1-1,20}=\\frac{g_{0}^{2} \\left(\\epsilon^{0}_{0} \\overline{\\epsilon^{1}_{-1}} + \\epsilon^{0}_{1} \\overline{\\epsilon^{1}_{0}}\\right)}{12 \\Delta - 12 \\omega_{F}} - \\frac{g_{0}^{2}}{12 \\Delta} \\left(\\epsilon^{0}_{0} \\overline{\\epsilon^{1}_{-1}} + \\epsilon^{0}_{1} \\overline{\\epsilon^{1}_{0}}\\right)=\\Omega_{0} \\left(\\frac{\\epsilon^{0}_{0} \\overline{\\epsilon^{1}_{-1}}}{2} + \\frac{\\epsilon^{0}_{1} \\overline{\\epsilon^{1}_{0}}}{2}\\right)$"
      ],
      "text/plain": [
       "<IPython.core.display.Latex object>"
      ]
     },
     "metadata": {},
     "output_type": "display_data"
    },
    {
     "data": {
      "text/latex": [
       "$^{Ba_{137}^+}\\Omega_{1-1,21}=0=0$"
      ],
      "text/plain": [
       "<IPython.core.display.Latex object>"
      ]
     },
     "metadata": {},
     "output_type": "display_data"
    },
    {
     "data": {
      "text/latex": [
       "$^{Ba_{137}^+}\\Omega_{1-1,22}=0=0$"
      ],
      "text/plain": [
       "<IPython.core.display.Latex object>"
      ]
     },
     "metadata": {},
     "output_type": "display_data"
    },
    {
     "data": {
      "text/latex": [
       "$^{Ba_{137}^+}\\Omega_{10,11}=- \\frac{g_{0}^{2} \\left(\\epsilon^{0}_{0} \\overline{\\epsilon^{1}_{-1}} + \\epsilon^{0}_{1} \\overline{\\epsilon^{1}_{0}}\\right)}{12 \\Delta - 12 \\omega_{F}} + \\frac{g_{0}^{2}}{12 \\Delta} \\left(\\epsilon^{0}_{0} \\overline{\\epsilon^{1}_{-1}} + \\epsilon^{0}_{1} \\overline{\\epsilon^{1}_{0}}\\right)=\\Omega_{0} \\left(- \\frac{\\epsilon^{0}_{0} \\overline{\\epsilon^{1}_{-1}}}{2} - \\frac{\\epsilon^{0}_{1} \\overline{\\epsilon^{1}_{0}}}{2}\\right)$"
      ],
      "text/plain": [
       "<IPython.core.display.Latex object>"
      ]
     },
     "metadata": {},
     "output_type": "display_data"
    },
    {
     "data": {
      "text/latex": [
       "$^{Ba_{137}^+}\\Omega_{10,2-2}=0=0$"
      ],
      "text/plain": [
       "<IPython.core.display.Latex object>"
      ]
     },
     "metadata": {},
     "output_type": "display_data"
    },
    {
     "data": {
      "text/latex": [
       "$^{Ba_{137}^+}\\Omega_{10,2-1}=- \\frac{\\sqrt{3} g_{0}^{2} \\left(\\epsilon^{0}_{-1} \\overline{\\epsilon^{1}_{0}} + \\epsilon^{0}_{0} \\overline{\\epsilon^{1}_{1}}\\right)}{12 \\Delta - 12 \\omega_{F}} + \\frac{\\sqrt{3} g_{0}^{2}}{12 \\Delta} \\left(\\epsilon^{0}_{-1} \\overline{\\epsilon^{1}_{0}} + \\epsilon^{0}_{0} \\overline{\\epsilon^{1}_{1}}\\right)=- \\frac{\\sqrt{3} \\Omega_{0}}{2} \\left(\\epsilon^{0}_{-1} \\overline{\\epsilon^{1}_{0}} + \\epsilon^{0}_{0} \\overline{\\epsilon^{1}_{1}}\\right)$"
      ],
      "text/plain": [
       "<IPython.core.display.Latex object>"
      ]
     },
     "metadata": {},
     "output_type": "display_data"
    },
    {
     "data": {
      "text/latex": [
       "$^{Ba_{137}^+}\\Omega_{10,20}=\\frac{g_{0}^{2} \\left(\\epsilon^{0}_{-1} \\overline{\\epsilon^{1}_{-1}} - \\epsilon^{0}_{1} \\overline{\\epsilon^{1}_{1}}\\right)}{6 \\Delta - 6 \\omega_{F}} + \\frac{g_{0}^{2}}{6 \\Delta} \\left(- \\epsilon^{0}_{-1} \\overline{\\epsilon^{1}_{-1}} + \\epsilon^{0}_{1} \\overline{\\epsilon^{1}_{1}}\\right)=\\Omega_{0} \\left(\\epsilon^{0}_{-1} \\overline{\\epsilon^{1}_{-1}} - \\epsilon^{0}_{1} \\overline{\\epsilon^{1}_{1}}\\right)$"
      ],
      "text/plain": [
       "<IPython.core.display.Latex object>"
      ]
     },
     "metadata": {},
     "output_type": "display_data"
    },
    {
     "data": {
      "text/latex": [
       "$^{Ba_{137}^+}\\Omega_{10,21}=\\frac{\\sqrt{3} g_{0}^{2} \\left(\\epsilon^{0}_{0} \\overline{\\epsilon^{1}_{-1}} + \\epsilon^{0}_{1} \\overline{\\epsilon^{1}_{0}}\\right)}{12 \\Delta - 12 \\omega_{F}} - \\frac{\\sqrt{3} g_{0}^{2}}{12 \\Delta} \\left(\\epsilon^{0}_{0} \\overline{\\epsilon^{1}_{-1}} + \\epsilon^{0}_{1} \\overline{\\epsilon^{1}_{0}}\\right)=\\frac{\\sqrt{3} \\Omega_{0}}{2} \\left(\\epsilon^{0}_{0} \\overline{\\epsilon^{1}_{-1}} + \\epsilon^{0}_{1} \\overline{\\epsilon^{1}_{0}}\\right)$"
      ],
      "text/plain": [
       "<IPython.core.display.Latex object>"
      ]
     },
     "metadata": {},
     "output_type": "display_data"
    },
    {
     "data": {
      "text/latex": [
       "$^{Ba_{137}^+}\\Omega_{10,22}=0=0$"
      ],
      "text/plain": [
       "<IPython.core.display.Latex object>"
      ]
     },
     "metadata": {},
     "output_type": "display_data"
    },
    {
     "data": {
      "text/latex": [
       "$^{Ba_{137}^+}\\Omega_{11,2-2}=0=0$"
      ],
      "text/plain": [
       "<IPython.core.display.Latex object>"
      ]
     },
     "metadata": {},
     "output_type": "display_data"
    },
    {
     "data": {
      "text/latex": [
       "$^{Ba_{137}^+}\\Omega_{11,2-1}=0=0$"
      ],
      "text/plain": [
       "<IPython.core.display.Latex object>"
      ]
     },
     "metadata": {},
     "output_type": "display_data"
    },
    {
     "data": {
      "text/latex": [
       "$^{Ba_{137}^+}\\Omega_{11,20}=- \\frac{g_{0}^{2} \\left(\\epsilon^{0}_{-1} \\overline{\\epsilon^{1}_{0}} + \\epsilon^{0}_{0} \\overline{\\epsilon^{1}_{1}}\\right)}{12 \\Delta - 12 \\omega_{F}} + \\frac{g_{0}^{2}}{12 \\Delta} \\left(\\epsilon^{0}_{-1} \\overline{\\epsilon^{1}_{0}} + \\epsilon^{0}_{0} \\overline{\\epsilon^{1}_{1}}\\right)=\\Omega_{0} \\left(- \\frac{\\epsilon^{0}_{-1} \\overline{\\epsilon^{1}_{0}}}{2} - \\frac{\\epsilon^{0}_{0} \\overline{\\epsilon^{1}_{1}}}{2}\\right)$"
      ],
      "text/plain": [
       "<IPython.core.display.Latex object>"
      ]
     },
     "metadata": {},
     "output_type": "display_data"
    },
    {
     "data": {
      "text/latex": [
       "$^{Ba_{137}^+}\\Omega_{11,21}=\\frac{\\sqrt{3} g_{0}^{2} \\left(\\epsilon^{0}_{-1} \\overline{\\epsilon^{1}_{-1}} - \\epsilon^{0}_{1} \\overline{\\epsilon^{1}_{1}}\\right)}{12 \\Delta - 12 \\omega_{F}} + \\frac{\\sqrt{3} g_{0}^{2}}{12 \\Delta} \\left(- \\epsilon^{0}_{-1} \\overline{\\epsilon^{1}_{-1}} + \\epsilon^{0}_{1} \\overline{\\epsilon^{1}_{1}}\\right)=\\frac{\\sqrt{3} \\Omega_{0}}{2} \\left(\\epsilon^{0}_{-1} \\overline{\\epsilon^{1}_{-1}} - \\epsilon^{0}_{1} \\overline{\\epsilon^{1}_{1}}\\right)$"
      ],
      "text/plain": [
       "<IPython.core.display.Latex object>"
      ]
     },
     "metadata": {},
     "output_type": "display_data"
    },
    {
     "data": {
      "text/latex": [
       "$^{Ba_{137}^+}\\Omega_{11,22}=\\frac{\\sqrt{6} g_{0}^{2} \\left(\\epsilon^{0}_{0} \\overline{\\epsilon^{1}_{-1}} + \\epsilon^{0}_{1} \\overline{\\epsilon^{1}_{0}}\\right)}{12 \\Delta - 12 \\omega_{F}} - \\frac{\\sqrt{6} g_{0}^{2}}{12 \\Delta} \\left(\\epsilon^{0}_{0} \\overline{\\epsilon^{1}_{-1}} + \\epsilon^{0}_{1} \\overline{\\epsilon^{1}_{0}}\\right)=\\frac{\\sqrt{6} \\Omega_{0}}{2} \\left(\\epsilon^{0}_{0} \\overline{\\epsilon^{1}_{-1}} + \\epsilon^{0}_{1} \\overline{\\epsilon^{1}_{0}}\\right)$"
      ],
      "text/plain": [
       "<IPython.core.display.Latex object>"
      ]
     },
     "metadata": {},
     "output_type": "display_data"
    },
    {
     "data": {
      "text/latex": [
       "$^{Ba_{137}^+}\\Omega_{2-2,2-1}=\\frac{\\sqrt{2} g_{0}^{2} \\left(\\epsilon^{0}_{0} \\overline{\\epsilon^{1}_{-1}} + \\epsilon^{0}_{1} \\overline{\\epsilon^{1}_{0}}\\right)}{12 \\Delta - 12 \\omega_{F}} - \\frac{\\sqrt{2} g_{0}^{2}}{12 \\Delta} \\left(\\epsilon^{0}_{0} \\overline{\\epsilon^{1}_{-1}} + \\epsilon^{0}_{1} \\overline{\\epsilon^{1}_{0}}\\right)=\\frac{\\sqrt{2} \\Omega_{0}}{2} \\left(\\epsilon^{0}_{0} \\overline{\\epsilon^{1}_{-1}} + \\epsilon^{0}_{1} \\overline{\\epsilon^{1}_{0}}\\right)$"
      ],
      "text/plain": [
       "<IPython.core.display.Latex object>"
      ]
     },
     "metadata": {},
     "output_type": "display_data"
    },
    {
     "data": {
      "text/latex": [
       "$^{Ba_{137}^+}\\Omega_{2-2,20}=0=0$"
      ],
      "text/plain": [
       "<IPython.core.display.Latex object>"
      ]
     },
     "metadata": {},
     "output_type": "display_data"
    },
    {
     "data": {
      "text/latex": [
       "$^{Ba_{137}^+}\\Omega_{2-2,21}=0=0$"
      ],
      "text/plain": [
       "<IPython.core.display.Latex object>"
      ]
     },
     "metadata": {},
     "output_type": "display_data"
    },
    {
     "data": {
      "text/latex": [
       "$^{Ba_{137}^+}\\Omega_{2-2,22}=0=0$"
      ],
      "text/plain": [
       "<IPython.core.display.Latex object>"
      ]
     },
     "metadata": {},
     "output_type": "display_data"
    },
    {
     "data": {
      "text/latex": [
       "$^{Ba_{137}^+}\\Omega_{2-1,20}=\\frac{\\sqrt{3} g_{0}^{2} \\left(\\epsilon^{0}_{0} \\overline{\\epsilon^{1}_{-1}} + \\epsilon^{0}_{1} \\overline{\\epsilon^{1}_{0}}\\right)}{12 \\Delta - 12 \\omega_{F}} - \\frac{\\sqrt{3} g_{0}^{2}}{12 \\Delta} \\left(\\epsilon^{0}_{0} \\overline{\\epsilon^{1}_{-1}} + \\epsilon^{0}_{1} \\overline{\\epsilon^{1}_{0}}\\right)=\\frac{\\sqrt{3} \\Omega_{0}}{2} \\left(\\epsilon^{0}_{0} \\overline{\\epsilon^{1}_{-1}} + \\epsilon^{0}_{1} \\overline{\\epsilon^{1}_{0}}\\right)$"
      ],
      "text/plain": [
       "<IPython.core.display.Latex object>"
      ]
     },
     "metadata": {},
     "output_type": "display_data"
    },
    {
     "data": {
      "text/latex": [
       "$^{Ba_{137}^+}\\Omega_{2-1,21}=0=0$"
      ],
      "text/plain": [
       "<IPython.core.display.Latex object>"
      ]
     },
     "metadata": {},
     "output_type": "display_data"
    },
    {
     "data": {
      "text/latex": [
       "$^{Ba_{137}^+}\\Omega_{2-1,22}=0=0$"
      ],
      "text/plain": [
       "<IPython.core.display.Latex object>"
      ]
     },
     "metadata": {},
     "output_type": "display_data"
    },
    {
     "data": {
      "text/latex": [
       "$^{Ba_{137}^+}\\Omega_{20,21}=\\frac{\\sqrt{3} g_{0}^{2} \\left(\\epsilon^{0}_{0} \\overline{\\epsilon^{1}_{-1}} + \\epsilon^{0}_{1} \\overline{\\epsilon^{1}_{0}}\\right)}{12 \\Delta - 12 \\omega_{F}} - \\frac{\\sqrt{3} g_{0}^{2}}{12 \\Delta} \\left(\\epsilon^{0}_{0} \\overline{\\epsilon^{1}_{-1}} + \\epsilon^{0}_{1} \\overline{\\epsilon^{1}_{0}}\\right)=\\frac{\\sqrt{3} \\Omega_{0}}{2} \\left(\\epsilon^{0}_{0} \\overline{\\epsilon^{1}_{-1}} + \\epsilon^{0}_{1} \\overline{\\epsilon^{1}_{0}}\\right)$"
      ],
      "text/plain": [
       "<IPython.core.display.Latex object>"
      ]
     },
     "metadata": {},
     "output_type": "display_data"
    },
    {
     "data": {
      "text/latex": [
       "$^{Ba_{137}^+}\\Omega_{20,22}=0=0$"
      ],
      "text/plain": [
       "<IPython.core.display.Latex object>"
      ]
     },
     "metadata": {},
     "output_type": "display_data"
    },
    {
     "data": {
      "text/latex": [
       "$^{Ba_{137}^+}\\Omega_{21,22}=\\frac{\\sqrt{2} g_{0}^{2} \\left(\\epsilon^{0}_{0} \\overline{\\epsilon^{1}_{-1}} + \\epsilon^{0}_{1} \\overline{\\epsilon^{1}_{0}}\\right)}{12 \\Delta - 12 \\omega_{F}} - \\frac{\\sqrt{2} g_{0}^{2}}{12 \\Delta} \\left(\\epsilon^{0}_{0} \\overline{\\epsilon^{1}_{-1}} + \\epsilon^{0}_{1} \\overline{\\epsilon^{1}_{0}}\\right)=\\frac{\\sqrt{2} \\Omega_{0}}{2} \\left(\\epsilon^{0}_{0} \\overline{\\epsilon^{1}_{-1}} + \\epsilon^{0}_{1} \\overline{\\epsilon^{1}_{0}}\\right)$"
      ],
      "text/plain": [
       "<IPython.core.display.Latex object>"
      ]
     },
     "metadata": {},
     "output_type": "display_data"
    }
   ],
   "source": [
    "I_ion = Rational(3/2)\n",
    "ground_states = [*hyperfinestates(1),*hyperfinestates(2)]\n",
    "D1_excited = [*hyperfinestates(1),*hyperfinestates(2)]\n",
    "D2_excited = [*hyperfinestates(0),*hyperfinestates(1),*hyperfinestates(2),*hyperfinestates(3)]\n",
    "\n",
    "for n in range(len(ground_states)):\n",
    "    for t in range(n+1, len(ground_states)):\n",
    "        state_0 = ground_states[n]\n",
    "        state_1 = ground_states[t]\n",
    "        s = two_photon_Rabi(state_0, state_1)\n",
    "        display(Latex(\"$^{Ba_{137}^+}\\Omega_{\" + str(state_0[0])+  str(state_0[1]) + \\\n",
    "                      \",\" + str(state_1[0])+  str(state_1[1])\n",
    "                      +\"}=\"+latex(s) +\"=\"+ \\\n",
    "                      latex(simplify(s/Omega_0_expression)*Omega_0) +\"$\"))"
   ]
  },
  {
   "cell_type": "markdown",
   "metadata": {},
   "source": [
    "### Fourth Order Differential Stark Shift"
   ]
  },
  {
   "cell_type": "code",
   "execution_count": 17,
   "metadata": {
    "ExecuteTime": {
     "end_time": "2018-08-17T22:31:11.103847Z",
     "start_time": "2018-08-17T22:31:06.607397Z"
    }
   },
   "outputs": [
    {
     "data": {
      "text/latex": [
       "$^{Ba_{137}^+}\\delta \\omega^{(4)}=\\frac{\\Omega_{0}^{2} \\left(\\epsilon^{0}_{-1} \\overline{\\epsilon^{1}_{-1}} - \\epsilon^{0}_{1} \\overline{\\epsilon^{1}_{1}}\\right) \\left(\\epsilon^{1}_{-1} \\overline{\\epsilon^{0}_{-1}} - \\epsilon^{1}_{1} \\overline{\\epsilon^{0}_{1}}\\right)}{- 2 \\omega_{0} + 2 \\omega_{1} + 2 \\omega_{HF}} - \\frac{3 \\Omega_{0}^{2} \\left(\\epsilon^{0}_{-1} \\overline{\\epsilon^{1}_{0}} + \\epsilon^{0}_{0} \\overline{\\epsilon^{1}_{1}}\\right) \\left(\\epsilon^{1}_{0} \\overline{\\epsilon^{0}_{-1}} + \\epsilon^{1}_{1} \\overline{\\epsilon^{0}_{0}}\\right)}{16 \\omega_{0} - 16 \\omega_{1} - 16 \\omega_{HF} + 16 \\omega_{Zee}} + \\frac{\\Omega_{0}^{2} \\left(\\epsilon^{0}_{-1} \\overline{\\epsilon^{1}_{0}} + \\epsilon^{0}_{0} \\overline{\\epsilon^{1}_{1}}\\right) \\left(\\epsilon^{1}_{0} \\overline{\\epsilon^{0}_{-1}} + \\epsilon^{1}_{1} \\overline{\\epsilon^{0}_{0}}\\right)}{- 16 \\omega_{0} + 16 \\omega_{1} + 16 \\omega_{HF} + 16 \\omega_{Zee}} + \\frac{\\Omega_{0}^{2} \\left(\\epsilon^{0}_{-1} \\overline{\\epsilon^{1}_{0}} + \\epsilon^{0}_{0} \\overline{\\epsilon^{1}_{1}}\\right) \\left(\\epsilon^{1}_{0} \\overline{\\epsilon^{0}_{-1}} + \\epsilon^{1}_{1} \\overline{\\epsilon^{0}_{0}}\\right)}{- 8 \\omega_{0} + 8 \\omega_{1} + 8 \\omega_{Zee}} + \\frac{\\Omega_{0}^{2} \\left(\\epsilon^{0}_{0} \\overline{\\epsilon^{1}_{-1}} + \\epsilon^{0}_{1} \\overline{\\epsilon^{1}_{0}}\\right) \\left(\\epsilon^{1}_{-1} \\overline{\\epsilon^{0}_{0}} + \\epsilon^{1}_{0} \\overline{\\epsilon^{0}_{1}}\\right)}{16 \\omega_{0} - 16 \\omega_{1} + 16 \\omega_{HF} - 16 \\omega_{Zee}} + \\frac{3 \\Omega_{0}^{2} \\left(\\epsilon^{0}_{0} \\overline{\\epsilon^{1}_{-1}} + \\epsilon^{0}_{1} \\overline{\\epsilon^{1}_{0}}\\right) \\left(\\epsilon^{1}_{-1} \\overline{\\epsilon^{0}_{0}} + \\epsilon^{1}_{0} \\overline{\\epsilon^{0}_{1}}\\right)}{- 16 \\omega_{0} + 16 \\omega_{1} + 16 \\omega_{HF} + 16 \\omega_{Zee}} - \\frac{\\Omega_{0}^{2} \\left(\\epsilon^{0}_{0} \\overline{\\epsilon^{1}_{-1}} + \\epsilon^{0}_{1} \\overline{\\epsilon^{1}_{0}}\\right) \\left(\\epsilon^{1}_{-1} \\overline{\\epsilon^{0}_{0}} + \\epsilon^{1}_{0} \\overline{\\epsilon^{0}_{1}}\\right)}{- 8 \\omega_{0} + 8 \\omega_{1} + 8 \\omega_{Zee}}$"
      ],
      "text/plain": [
       "<IPython.core.display.Latex object>"
      ]
     },
     "metadata": {},
     "output_type": "display_data"
    }
   ],
   "source": [
    "I_ion = Rational(3/2)\n",
    "ground_states = [*hyperfinestates(1,0,omega_Zee),*hyperfinestates(2,omega_HF, omega_Zee)]\n",
    "D1_excited = [*hyperfinestates(1),*hyperfinestates(2)]\n",
    "D2_excited = [*hyperfinestates(0),*hyperfinestates(1),*hyperfinestates(2),*hyperfinestates(3)]\n",
    "\n",
    "state_pair = [(1,0,0), (2,0,omega_HF)]\n",
    "\n",
    "state_0 = state_pair[0]\n",
    "s_sum = 0\n",
    "for t in range(len(ground_states)):\n",
    "    \n",
    "    state_1 = ground_states[t]\n",
    "    if state_1[0]==state_0[0] and state_1[1] == state_0[1]:\n",
    "        continue\n",
    "    s = two_photon_Rabi(state_0, state_1)\n",
    "    s = simplify(s/Omega_0_expression)*Omega_0\n",
    "    if lower(state_0, state_1):\n",
    "        omega_d_beam = (omega_1-omega_0)\n",
    "    else:\n",
    "        omega_d_beam = (omega_0-omega_1)\n",
    "        \n",
    "    s = simplify(conjugate(s)*s / ((state_0[2] - state_1[2])-omega_d_beam))/4\n",
    "    s_sum = s_sum + s\n",
    "#s_sum=simplify(s_sum)\n",
    "s_sum_0 = s_sum\n",
    "\n",
    "state_0 = state_pair[1]\n",
    "s_sum = 0\n",
    "for t in range(len(ground_states)):\n",
    "    \n",
    "    state_1 = ground_states[t]\n",
    "    if state_1[0]==state_0[0] and state_1[1] == state_0[1]:\n",
    "        continue\n",
    "    s = two_photon_Rabi(state_0, state_1)\n",
    "    s = simplify(s/Omega_0_expression)*Omega_0\n",
    "    if lower(state_0, state_1):\n",
    "        omega_d_beam = (omega_1-omega_0)\n",
    "    else:\n",
    "        omega_d_beam = (omega_0-omega_1)\n",
    "        \n",
    "    s = simplify(conjugate(s)*s / ((state_0[2] - state_1[2])-omega_d_beam))/4\n",
    "    s_sum = s_sum + s\n",
    "#s_sum=simplify(s_sum)\n",
    "s_sum_1 = s_sum\n",
    "\n",
    "d_energy = s_sum_1 - s_sum_0\n",
    "display(Latex(\"$^{Ba_{137}^+}\\delta \\omega^{(4)}=\"+latex(d_energy) + \"$\"))"
   ]
  },
  {
   "cell_type": "code",
   "execution_count": 18,
   "metadata": {
    "ExecuteTime": {
     "end_time": "2018-08-17T22:31:11.155752Z",
     "start_time": "2018-08-17T22:31:11.104977Z"
    }
   },
   "outputs": [
    {
     "data": {
      "text/latex": [
       "$^{Ba_{137}^+}\\delta \\omega^{(4)}_{\\hat{\\epsilon}=(1,0,0)}=\\frac{\\Omega_{0}^{2}}{- 2 \\omega_{0} + 2 \\omega_{1} + 2 \\omega_{HF}}$"
      ],
      "text/plain": [
       "<IPython.core.display.Latex object>"
      ]
     },
     "metadata": {},
     "output_type": "display_data"
    },
    {
     "data": {
      "text/latex": [
       "$^{Ba_{137}^+}\\delta \\omega^{(4)}_{\\hat{\\epsilon}=(\\frac{1}{2},\\frac{\\sqrt{2}}{2},\\frac{1}{2})}=\\frac{\\Omega_{0}^{2}}{32 \\omega_{0} - 32 \\omega_{1} + 32 \\omega_{HF} - 32 \\omega_{Zee}} - \\frac{3 \\Omega_{0}^{2}}{32 \\omega_{0} - 32 \\omega_{1} - 32 \\omega_{HF} + 32 \\omega_{Zee}} + \\frac{\\Omega_{0}^{2}}{- 32 \\omega_{0} + 32 \\omega_{1} + 32 \\omega_{HF} + 32 \\omega_{Zee}} + \\frac{3 \\Omega_{0}^{2}}{- 32 \\omega_{0} + 32 \\omega_{1} + 32 \\omega_{HF} + 32 \\omega_{Zee}} + \\frac{\\Omega_{0}^{2}}{- 16 \\omega_{0} + 16 \\omega_{1} + 16 \\omega_{Zee}} - \\frac{\\Omega_{0}^{2}}{- 16 \\omega_{0} + 16 \\omega_{1} + 16 \\omega_{Zee}}$"
      ],
      "text/plain": [
       "<IPython.core.display.Latex object>"
      ]
     },
     "metadata": {},
     "output_type": "display_data"
    },
    {
     "data": {
      "text/latex": [
       "$^{Ba_{137}^+}\\delta \\omega^{(4)}_{\\hat{\\epsilon}=(1,0,0)}=\\frac{\\Omega_{0}^{2}}{- 2 \\omega_{0} + 2 \\omega_{1} + 2 \\omega_{HF}}$"
      ],
      "text/plain": [
       "<IPython.core.display.Latex object>"
      ]
     },
     "metadata": {},
     "output_type": "display_data"
    }
   ],
   "source": [
    "for pol in [(1,0,0),(Rational(1/2),1/sqrt(2),Rational(1/2)),(1,0,0)]:\n",
    "    display(Latex(\"$^{Ba_{137}^+}\\delta \\omega^{(4)}\"+ \"_{\\hat{\\epsilon}=\"+\n",
    "                  \"({0},{1},{2})\".format(latex(pol[0]),latex(pol[1]),latex(pol[2]))+\n",
    "                  \"}=\"+latex(d_denergy_single_beam(pol)) + \"$\"))"
   ]
  },
  {
   "cell_type": "markdown",
   "metadata": {},
   "source": [
    "### Pulse Laser"
   ]
  },
  {
   "cell_type": "code",
   "execution_count": 19,
   "metadata": {
    "ExecuteTime": {
     "end_time": "2018-08-17T22:31:11.265815Z",
     "start_time": "2018-08-17T22:31:11.157611Z"
    },
    "scrolled": true
   },
   "outputs": [
    {
     "data": {
      "text/latex": [
       "$^{Ba_{137}^+}\\delta \\omega^{(4)}=\\sum_{l=1}^{\\infty} \\left(\\frac{\\Omega_{0}^{2} \\operatorname{sech}^{2}{\\left (\\pi l \\nu_{rep} \\tau \\right )}}{- 4 \\pi l \\nu_{rep} + 2 \\omega_{HF}} \\left(\\epsilon^{0}_{-1} \\overline{\\epsilon^{1}_{-1}} - \\epsilon^{0}_{1} \\overline{\\epsilon^{1}_{1}}\\right) \\left(\\epsilon^{1}_{-1} \\overline{\\epsilon^{0}_{-1}} - \\epsilon^{1}_{1} \\overline{\\epsilon^{0}_{1}}\\right) - \\frac{3 \\Omega_{0}^{2} \\left(\\epsilon^{0}_{-1} \\overline{\\epsilon^{1}_{0}} + \\epsilon^{0}_{0} \\overline{\\epsilon^{1}_{1}}\\right) \\left(\\epsilon^{1}_{0} \\overline{\\epsilon^{0}_{-1}} + \\epsilon^{1}_{1} \\overline{\\epsilon^{0}_{0}}\\right) \\operatorname{sech}^{2}{\\left (\\pi l \\nu_{rep} \\tau \\right )}}{32 \\pi l \\nu_{rep} - 16 \\omega_{HF} + 16 \\omega_{Zee}} + \\frac{\\Omega_{0}^{2} \\left(\\epsilon^{0}_{-1} \\overline{\\epsilon^{1}_{0}} + \\epsilon^{0}_{0} \\overline{\\epsilon^{1}_{1}}\\right) \\left(\\epsilon^{1}_{0} \\overline{\\epsilon^{0}_{-1}} + \\epsilon^{1}_{1} \\overline{\\epsilon^{0}_{0}}\\right) \\operatorname{sech}^{2}{\\left (\\pi l \\nu_{rep} \\tau \\right )}}{- 32 \\pi l \\nu_{rep} + 16 \\omega_{HF} + 16 \\omega_{Zee}} + \\frac{\\Omega_{0}^{2} \\operatorname{sech}^{2}{\\left (\\pi l \\nu_{rep} \\tau \\right )}}{- 16 \\pi l \\nu_{rep} + 8 \\omega_{Zee}} \\left(\\epsilon^{0}_{-1} \\overline{\\epsilon^{1}_{0}} + \\epsilon^{0}_{0} \\overline{\\epsilon^{1}_{1}}\\right) \\left(\\epsilon^{1}_{0} \\overline{\\epsilon^{0}_{-1}} + \\epsilon^{1}_{1} \\overline{\\epsilon^{0}_{0}}\\right) + \\frac{\\Omega_{0}^{2} \\left(\\epsilon^{0}_{0} \\overline{\\epsilon^{1}_{-1}} + \\epsilon^{0}_{1} \\overline{\\epsilon^{1}_{0}}\\right) \\left(\\epsilon^{1}_{-1} \\overline{\\epsilon^{0}_{0}} + \\epsilon^{1}_{0} \\overline{\\epsilon^{0}_{1}}\\right) \\operatorname{sech}^{2}{\\left (\\pi l \\nu_{rep} \\tau \\right )}}{32 \\pi l \\nu_{rep} + 16 \\omega_{HF} - 16 \\omega_{Zee}} + \\frac{3 \\Omega_{0}^{2} \\left(\\epsilon^{0}_{0} \\overline{\\epsilon^{1}_{-1}} + \\epsilon^{0}_{1} \\overline{\\epsilon^{1}_{0}}\\right) \\left(\\epsilon^{1}_{-1} \\overline{\\epsilon^{0}_{0}} + \\epsilon^{1}_{0} \\overline{\\epsilon^{0}_{1}}\\right) \\operatorname{sech}^{2}{\\left (\\pi l \\nu_{rep} \\tau \\right )}}{- 32 \\pi l \\nu_{rep} + 16 \\omega_{HF} + 16 \\omega_{Zee}} - \\frac{\\Omega_{0}^{2} \\operatorname{sech}^{2}{\\left (\\pi l \\nu_{rep} \\tau \\right )}}{- 16 \\pi l \\nu_{rep} + 8 \\omega_{Zee}} \\left(\\epsilon^{0}_{0} \\overline{\\epsilon^{1}_{-1}} + \\epsilon^{0}_{1} \\overline{\\epsilon^{1}_{0}}\\right) \\left(\\epsilon^{1}_{-1} \\overline{\\epsilon^{0}_{0}} + \\epsilon^{1}_{0} \\overline{\\epsilon^{0}_{1}}\\right)\\right)$"
      ],
      "text/plain": [
       "<IPython.core.display.Latex object>"
      ]
     },
     "metadata": {},
     "output_type": "display_data"
    }
   ],
   "source": [
    "#domega_four = d_denergy_single_beam((1,0,0))\n",
    "domega_four = d_energy\n",
    "domega_four = domega_four.subs(omega_0, omega_1 + l*2*pi_symbo*nu_rep)\n",
    "domega_four = domega_four.subs(Omega_0, Omega_0*sech(pi_symbo*l*nu_rep*tau))\n",
    "domega_four = Sum(domega_four, (l, 1, oo))\n",
    "display(Latex(\"$^{Ba_{137}^+}\\delta \\omega^{(4)}=\"+latex(domega_four) + \"$\"))"
   ]
  },
  {
   "cell_type": "code",
   "execution_count": 20,
   "metadata": {
    "ExecuteTime": {
     "end_time": "2018-08-17T22:31:11.493018Z",
     "start_time": "2018-08-17T22:31:11.266870Z"
    }
   },
   "outputs": [
    {
     "data": {
      "text/latex": [
       "$^{Ba_{137}^+}\\delta \\omega^{(4)}_{\\hat{\\epsilon}=(1,0,0)}=\\sum_{l=1}^{\\infty} \\frac{\\Omega_{0}^{2} \\operatorname{sech}^{2}{\\left (\\pi l \\nu_{rep} \\tau \\right )}}{- 4 \\pi l \\nu_{rep} + 2 \\omega_{HF}}$"
      ],
      "text/plain": [
       "<IPython.core.display.Latex object>"
      ]
     },
     "metadata": {},
     "output_type": "display_data"
    },
    {
     "data": {
      "text/latex": [
       "$^{Ba_{137}^+}\\delta \\omega^{(4)}_{\\hat{\\epsilon}=(\\frac{1}{2},\\frac{\\sqrt{2}}{2},\\frac{1}{2})}=\\sum_{l=1}^{\\infty} \\left(\\frac{\\Omega_{0}^{2} \\operatorname{sech}^{2}{\\left (\\pi l \\nu_{rep} \\tau \\right )}}{64 \\pi l \\nu_{rep} + 32 \\omega_{HF} - 32 \\omega_{Zee}} - \\frac{3 \\Omega_{0}^{2} \\operatorname{sech}^{2}{\\left (\\pi l \\nu_{rep} \\tau \\right )}}{64 \\pi l \\nu_{rep} - 32 \\omega_{HF} + 32 \\omega_{Zee}} + \\frac{\\Omega_{0}^{2} \\operatorname{sech}^{2}{\\left (\\pi l \\nu_{rep} \\tau \\right )}}{- 64 \\pi l \\nu_{rep} + 32 \\omega_{HF} + 32 \\omega_{Zee}} + \\frac{3 \\Omega_{0}^{2} \\operatorname{sech}^{2}{\\left (\\pi l \\nu_{rep} \\tau \\right )}}{- 64 \\pi l \\nu_{rep} + 32 \\omega_{HF} + 32 \\omega_{Zee}} + \\frac{\\Omega_{0}^{2} \\operatorname{sech}^{2}{\\left (\\pi l \\nu_{rep} \\tau \\right )}}{- 32 \\pi l \\nu_{rep} + 16 \\omega_{Zee}} - \\frac{\\Omega_{0}^{2} \\operatorname{sech}^{2}{\\left (\\pi l \\nu_{rep} \\tau \\right )}}{- 32 \\pi l \\nu_{rep} + 16 \\omega_{Zee}}\\right)$"
      ],
      "text/plain": [
       "<IPython.core.display.Latex object>"
      ]
     },
     "metadata": {},
     "output_type": "display_data"
    },
    {
     "data": {
      "text/latex": [
       "$^{Ba_{137}^+}\\delta \\omega^{(4)}_{\\hat{\\epsilon}=(1,0,0)}=\\sum_{l=1}^{\\infty} \\frac{\\Omega_{0}^{2} \\operatorname{sech}^{2}{\\left (\\pi l \\nu_{rep} \\tau \\right )}}{- 4 \\pi l \\nu_{rep} + 2 \\omega_{HF}}$"
      ],
      "text/plain": [
       "<IPython.core.display.Latex object>"
      ]
     },
     "metadata": {},
     "output_type": "display_data"
    }
   ],
   "source": [
    "def d_denergy_comb_single_beam(pol):\n",
    "    return sub_polirization(domega_four,pol,pol)\n",
    "for pol in [(1,0,0),(Rational(1/2),1/sqrt(2),Rational(1/2)),(1,0,0)]:\n",
    "    display(Latex(\"$^{Ba_{137}^+}\\delta \\omega^{(4)}\"+ \"_{\\hat{\\epsilon}=\"+\n",
    "                  \"({0},{1},{2})\".format(latex(pol[0]),latex(pol[1]),latex(pol[2]))+\n",
    "                  \"}=\"+latex(d_denergy_comb_single_beam(pol)) + \"$\"))"
   ]
  },
  {
   "cell_type": "markdown",
   "metadata": {},
   "source": [
    "## Conclusion\n",
    "In this report we went through the detailed derivation of differential fourth order Stark shift for both Yb-171 and Ba-137 ions. Several technqiues taught or mentioned in the class, such as Clebsch-Gordan coefficient, Wigner 6j symbols, perturbation theory, rotating frame trasformation, are used in this report. Some symbolic computations are done with the help of [Sympy](https://www.sympy.org/en/index.html). The power and flexiblity of Sympy allow us to derive formulas in a modular way which makes extending the results to different spieces of ions very easily. Also, we evaluates the differential fourth order Stark shift numerically for Yb-171. This can be very useful in our future experiments [5].\n"
   ]
  },
  {
   "cell_type": "markdown",
   "metadata": {},
   "source": [
    "## Reference\n",
    "1. Lee, Aaron C., et al. \"Engineering large Stark shifts for control of individual clock state qubits.\" Physical Review A 94.4 (2016): 042308.\n",
    "2. Steck, Daniel A. \"Quantum and atom optics.\" Oregon Center for Optics and Department of Physics, University of Oregon 47 (2007).\n",
    "3. Sakurai, Jun John, and Eugene D. Commins. \"Modern quantum mechanics, revised edition.\" (1995): 93-95.\n",
    "4. Meurer, Aaron, et al. \"SymPy: symbolic computing in Python.\" PeerJ Computer Science 3 (2017): e103.\n",
    "5. Shih, Chung-You, et al. \"Engineering programmable spin interactions in a trapped ion quantum simulator with holographic single-ion addressing.\" Bulletin of the American Physical Society (2018)."
   ]
  }
 ],
 "metadata": {
  "hide_input": true,
  "kernelspec": {
   "display_name": "Python 3",
   "language": "python",
   "name": "python3"
  },
  "language_info": {
   "codemirror_mode": {
    "name": "ipython",
    "version": 3
   },
   "file_extension": ".py",
   "mimetype": "text/x-python",
   "name": "python",
   "nbconvert_exporter": "python",
   "pygments_lexer": "ipython3",
   "version": "3.6.3"
  },
  "toc": {
   "base_numbering": 1,
   "nav_menu": {},
   "number_sections": false,
   "sideBar": true,
   "skip_h1_title": false,
   "title_cell": "Table of Contents",
   "title_sidebar": "Contents",
   "toc_cell": false,
   "toc_position": {},
   "toc_section_display": true,
   "toc_window_display": false
  }
 },
 "nbformat": 4,
 "nbformat_minor": 2
}
